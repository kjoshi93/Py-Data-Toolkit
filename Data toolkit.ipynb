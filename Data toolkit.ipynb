{
  "cells": [
    {
      "cell_type": "markdown",
      "id": "e1349a12-7db2-44fc-80b8-724a7e56837d",
      "metadata": {
        "id": "e1349a12-7db2-44fc-80b8-724a7e56837d"
      },
      "source": [
        "Q1. Demonstrate three different methods for creating identical 2D arrays in NumPy Provide the code for each\n",
        " method and the final output after each method"
      ]
    },
    {
      "cell_type": "code",
      "execution_count": null,
      "id": "e42042c6-afe6-4f52-a78f-cb1dd5075288",
      "metadata": {
        "id": "e42042c6-afe6-4f52-a78f-cb1dd5075288",
        "outputId": "d32b963a-02f7-4fd1-c907-ec37fa43f777"
      },
      "outputs": [
        {
          "name": "stdout",
          "output_type": "stream",
          "text": [
            "Method 1:\n",
            " [[1 2 3]\n",
            " [4 5 6]\n",
            " [7 8 9]]\n"
          ]
        }
      ],
      "source": [
        "# importing library\n",
        "import numpy as np\n",
        "\n",
        "# creating an numpy array using method 1, self defined data\n",
        "array1 = np.array([[1, 2, 3], [4, 5, 6], [7, 8, 9]])\n",
        "print(\"Method 1:\\n\", array1)"
      ]
    },
    {
      "cell_type": "code",
      "execution_count": null,
      "id": "c629d54e-7cec-4636-aaf9-5c77e68df384",
      "metadata": {
        "id": "c629d54e-7cec-4636-aaf9-5c77e68df384",
        "outputId": "579d0cbe-9ab8-4b7e-a4a9-f6b47077cfb5"
      },
      "outputs": [
        {
          "name": "stdout",
          "output_type": "stream",
          "text": [
            "Method 2:\n",
            " [[1 2 3]\n",
            " [4 5 6]\n",
            " [7 8 9]]\n"
          ]
        }
      ],
      "source": [
        "array1 = np.ones((3, 3), dtype=int)\n",
        "array1[0] = [1, 2, 3]\n",
        "array1[1] = [4, 5, 6]\n",
        "array1[2] = [7, 8, 9]\n",
        "print(\"Method 2:\\n\", array1)"
      ]
    },
    {
      "cell_type": "code",
      "execution_count": null,
      "id": "4ff92d26-fa36-4540-b894-02769487d32a",
      "metadata": {
        "id": "4ff92d26-fa36-4540-b894-02769487d32a",
        "outputId": "cd8deaef-ec09-4bf6-ebed-526b019c17db"
      },
      "outputs": [
        {
          "name": "stdout",
          "output_type": "stream",
          "text": [
            "Method 3:\n",
            " [[1 2 3]\n",
            " [4 5 6]\n",
            " [7 8 9]]\n"
          ]
        }
      ],
      "source": [
        "array1 = np.arange(1, 10).reshape((3, 3))\n",
        "print(\"Method 3:\\n\", array1)"
      ]
    },
    {
      "cell_type": "markdown",
      "id": "7c6894ee-173b-411b-994b-4e5ec18c393b",
      "metadata": {
        "id": "7c6894ee-173b-411b-994b-4e5ec18c393b"
      },
      "source": [
        "Q2. Using the Numpy function, generate an array of 100 evenly spaced numPers between 1 and 10 and\n",
        "Reshape that 1D array into a 2D array"
      ]
    },
    {
      "cell_type": "code",
      "execution_count": null,
      "id": "972a5288-cde4-44d5-9c87-678c87f4969c",
      "metadata": {
        "id": "972a5288-cde4-44d5-9c87-678c87f4969c",
        "outputId": "edd55e39-ac78-42a7-d984-bd978c410168"
      },
      "outputs": [
        {
          "name": "stdout",
          "output_type": "stream",
          "text": [
            "[ 1.          1.09090909  1.18181818  1.27272727  1.36363636  1.45454545\n",
            "  1.54545455  1.63636364  1.72727273  1.81818182  1.90909091  2.\n",
            "  2.09090909  2.18181818  2.27272727  2.36363636  2.45454545  2.54545455\n",
            "  2.63636364  2.72727273  2.81818182  2.90909091  3.          3.09090909\n",
            "  3.18181818  3.27272727  3.36363636  3.45454545  3.54545455  3.63636364\n",
            "  3.72727273  3.81818182  3.90909091  4.          4.09090909  4.18181818\n",
            "  4.27272727  4.36363636  4.45454545  4.54545455  4.63636364  4.72727273\n",
            "  4.81818182  4.90909091  5.          5.09090909  5.18181818  5.27272727\n",
            "  5.36363636  5.45454545  5.54545455  5.63636364  5.72727273  5.81818182\n",
            "  5.90909091  6.          6.09090909  6.18181818  6.27272727  6.36363636\n",
            "  6.45454545  6.54545455  6.63636364  6.72727273  6.81818182  6.90909091\n",
            "  7.          7.09090909  7.18181818  7.27272727  7.36363636  7.45454545\n",
            "  7.54545455  7.63636364  7.72727273  7.81818182  7.90909091  8.\n",
            "  8.09090909  8.18181818  8.27272727  8.36363636  8.45454545  8.54545455\n",
            "  8.63636364  8.72727273  8.81818182  8.90909091  9.          9.09090909\n",
            "  9.18181818  9.27272727  9.36363636  9.45454545  9.54545455  9.63636364\n",
            "  9.72727273  9.81818182  9.90909091 10.        ]\n"
          ]
        }
      ],
      "source": [
        "# generating 100 evenly spaced 1D array\n",
        "array_1d = np.linspace(1, 10, 100)\n",
        "print(array_1d)"
      ]
    },
    {
      "cell_type": "code",
      "execution_count": null,
      "id": "c1b43f6b-3b08-4995-b344-a5e4433edf42",
      "metadata": {
        "id": "c1b43f6b-3b08-4995-b344-a5e4433edf42",
        "outputId": "3b9e4919-54cc-44ea-ef98-138adcd54966"
      },
      "outputs": [
        {
          "name": "stdout",
          "output_type": "stream",
          "text": [
            "100\n"
          ]
        }
      ],
      "source": [
        "print(array_1d.size)"
      ]
    },
    {
      "cell_type": "code",
      "execution_count": null,
      "id": "2b5caab3-eca0-44ae-b849-218e29369d2f",
      "metadata": {
        "id": "2b5caab3-eca0-44ae-b849-218e29369d2f",
        "outputId": "2a6d265b-aaf9-4d56-d094-4f2d47a8cba3"
      },
      "outputs": [
        {
          "name": "stdout",
          "output_type": "stream",
          "text": [
            "[[ 1.          1.09090909  1.18181818  1.27272727  1.36363636  1.45454545\n",
            "   1.54545455  1.63636364  1.72727273  1.81818182]\n",
            " [ 1.90909091  2.          2.09090909  2.18181818  2.27272727  2.36363636\n",
            "   2.45454545  2.54545455  2.63636364  2.72727273]\n",
            " [ 2.81818182  2.90909091  3.          3.09090909  3.18181818  3.27272727\n",
            "   3.36363636  3.45454545  3.54545455  3.63636364]\n",
            " [ 3.72727273  3.81818182  3.90909091  4.          4.09090909  4.18181818\n",
            "   4.27272727  4.36363636  4.45454545  4.54545455]\n",
            " [ 4.63636364  4.72727273  4.81818182  4.90909091  5.          5.09090909\n",
            "   5.18181818  5.27272727  5.36363636  5.45454545]\n",
            " [ 5.54545455  5.63636364  5.72727273  5.81818182  5.90909091  6.\n",
            "   6.09090909  6.18181818  6.27272727  6.36363636]\n",
            " [ 6.45454545  6.54545455  6.63636364  6.72727273  6.81818182  6.90909091\n",
            "   7.          7.09090909  7.18181818  7.27272727]\n",
            " [ 7.36363636  7.45454545  7.54545455  7.63636364  7.72727273  7.81818182\n",
            "   7.90909091  8.          8.09090909  8.18181818]\n",
            " [ 8.27272727  8.36363636  8.45454545  8.54545455  8.63636364  8.72727273\n",
            "   8.81818182  8.90909091  9.          9.09090909]\n",
            " [ 9.18181818  9.27272727  9.36363636  9.45454545  9.54545455  9.63636364\n",
            "   9.72727273  9.81818182  9.90909091 10.        ]]\n"
          ]
        }
      ],
      "source": [
        "# reshaping it to generate 2d\n",
        "array_2d = array_1d.reshape((10, 10))\n",
        "print(array_2d)"
      ]
    },
    {
      "cell_type": "markdown",
      "id": "d38eff87-743f-4a61-81b7-5c445c02f864",
      "metadata": {
        "id": "d38eff87-743f-4a61-81b7-5c445c02f864"
      },
      "source": [
        "Q3. Explain the following terms\n",
        "A. The difference in np.array, np.asarray and np.asanyarray\n",
        "B. The difference between Deep copy and shallow copy"
      ]
    },
    {
      "cell_type": "raw",
      "id": "63ed3e6e-6b85-49ed-b23a-c46c3187fdef",
      "metadata": {
        "id": "63ed3e6e-6b85-49ed-b23a-c46c3187fdef"
      },
      "source": [
        "A. The main difference between np.array, np.asarray and np.asanyarray lies in a few points mentioned below:\n",
        "\n",
        "1. np.array creates a new array irrespective of existing array while taking it as input parameter whereas np.asarray and np.asanyarray does not create new array if existing one is an array.\n",
        "2. np.asarray and np.asanyarray is more performant than np.array.\n",
        "3. np.array will only create and return an numpy array object, np.asarray will also convert the existing array or singular value or matrix into np.array but np.asanyarray will return matrix if existing is a matrix, array if existing is an array based on the type of numpy supported array types."
      ]
    },
    {
      "cell_type": "raw",
      "id": "3bae3197-685f-4d4b-a10a-963a16a62f0d",
      "metadata": {
        "id": "3bae3197-685f-4d4b-a10a-963a16a62f0d"
      },
      "source": [
        "B. Shallow copy vs deep copy:\n",
        "    1. Shallow copy does create a new object with the data while copying but it shares the refernce of same data with multiple objects, whereas deep copy creates a new object with its new data copy by recursive copying data while creating the object.\n",
        "    2. As it lies in the way they work, shallow copy data will effect to all the objects if changing in any one as all are referencing to the same data, but in case of deep copy changing in data of an object does not effect data of other object.\n"
      ]
    },
    {
      "cell_type": "markdown",
      "id": "16b12de6-0fe2-4d82-ae00-116277955b84",
      "metadata": {
        "id": "16b12de6-0fe2-4d82-ae00-116277955b84"
      },
      "source": [
        "Q4. Generate a 3x3 array with random floating-point numPers Petween 5 and 20 then, round each numPer in\n",
        "the array to 2 decimal places"
      ]
    },
    {
      "cell_type": "code",
      "execution_count": null,
      "id": "623a664b-e3ab-4504-affb-6a4b141145f1",
      "metadata": {
        "id": "623a664b-e3ab-4504-affb-6a4b141145f1",
        "outputId": "84e2717e-d1ba-4e34-8808-8a49a8d0d445"
      },
      "outputs": [
        {
          "name": "stdout",
          "output_type": "stream",
          "text": [
            "Random Array:\n",
            "[[17.16837799 11.86250941 18.64255217]\n",
            " [14.32599346  5.11930354  6.13528236]\n",
            " [18.83637689 19.9987965  13.37659915]]\n"
          ]
        }
      ],
      "source": [
        "# creating a 3x3 array with random floating-point numbers between 5 and 20\n",
        "random_array = np.random.uniform(5, 20, (3, 3))\n",
        "\n",
        "print(\"Random Array:\")\n",
        "print(random_array)"
      ]
    },
    {
      "cell_type": "code",
      "execution_count": null,
      "id": "2cc0f2ac-8762-436c-92d4-a003aaba676b",
      "metadata": {
        "id": "2cc0f2ac-8762-436c-92d4-a003aaba676b",
        "outputId": "691df486-19eb-420f-a05d-5049e5d6063a"
      },
      "outputs": [
        {
          "name": "stdout",
          "output_type": "stream",
          "text": [
            "\n",
            "Rounded Array:\n",
            "[[17.17 11.86 18.64]\n",
            " [14.33  5.12  6.14]\n",
            " [18.84 20.   13.38]]\n"
          ]
        }
      ],
      "source": [
        "# rounding each number in the array to 2 decimal places\n",
        "rounded_array = np.round(random_array, 2)\n",
        "\n",
        "\n",
        "print(\"\\nRounded Array:\")\n",
        "print(rounded_array)"
      ]
    },
    {
      "cell_type": "markdown",
      "id": "a622b029-8eba-428d-a918-30fab00ae0dd",
      "metadata": {
        "id": "a622b029-8eba-428d-a918-30fab00ae0dd"
      },
      "source": [
        "Q5. Create a NumPy array with random integers Petween 1 and 10 of shape (5, 6) After creating the array\n",
        "perform the following operations:\n",
        "\n",
        " a)Extract all even integers from array.\n",
        "\n",
        " b)Extract all odd integers from array."
      ]
    },
    {
      "cell_type": "code",
      "execution_count": null,
      "id": "1d85ef56-1967-46e6-952a-3ce9593525f0",
      "metadata": {
        "id": "1d85ef56-1967-46e6-952a-3ce9593525f0",
        "outputId": "29f5c70c-4b7b-40a6-985c-62096a35f714"
      },
      "outputs": [
        {
          "name": "stdout",
          "output_type": "stream",
          "text": [
            "[[9 5 8 6 7 9]\n",
            " [2 6 9 4 6 9]\n",
            " [4 2 1 8 4 2]\n",
            " [7 3 2 9 3 9]\n",
            " [4 7 6 5 2 5]]\n"
          ]
        }
      ],
      "source": [
        "random_array = np.random.randint(1,10,(5,6))\n",
        "\n",
        "print(random_array)"
      ]
    },
    {
      "cell_type": "code",
      "execution_count": null,
      "id": "694b6780-e28a-485b-8c98-e4955cafa7f9",
      "metadata": {
        "id": "694b6780-e28a-485b-8c98-e4955cafa7f9",
        "outputId": "951a9957-2e7c-4f49-a343-77d3e325dfad"
      },
      "outputs": [
        {
          "name": "stdout",
          "output_type": "stream",
          "text": [
            "[8 6 2 6 4 6 4 2 8 4 2 2 4 6 2]\n"
          ]
        }
      ],
      "source": [
        "# extract all even int from array\n",
        "even_numbers = random_array[random_array % 2 == 0]\n",
        "\n",
        "print(even_numbers)"
      ]
    },
    {
      "cell_type": "code",
      "execution_count": null,
      "id": "6d65def2-37c1-4af2-a787-c667bb51be25",
      "metadata": {
        "id": "6d65def2-37c1-4af2-a787-c667bb51be25",
        "outputId": "45a21734-794a-4b3f-a088-6d75455b2e99"
      },
      "outputs": [
        {
          "name": "stdout",
          "output_type": "stream",
          "text": [
            "[9 5 7 9 9 9 1 7 3 9 3 9 7 5 5]\n"
          ]
        }
      ],
      "source": [
        "# extract all odd int\n",
        "odd_numbers = random_array[random_array%2 !=0]\n",
        "\n",
        "print(odd_numbers)"
      ]
    },
    {
      "cell_type": "markdown",
      "id": "f4b705de-bf5f-4785-8968-1e538edc2087",
      "metadata": {
        "id": "f4b705de-bf5f-4785-8968-1e538edc2087"
      },
      "source": [
        "Q6. Create a 3D NumPy array of shape (3, 3, 3) containing random integers Petween 1 and 10. Perform the\n",
        "following operations:\n",
        "\n",
        " a) Find the indices of the maximum values along each depth level (third axis).\n",
        "\n",
        " b) Perform element\n",
        "wise multiplication of between both array"
      ]
    },
    {
      "cell_type": "code",
      "execution_count": null,
      "id": "221c7f18-d382-4658-b0cd-35283f9df5f9",
      "metadata": {
        "id": "221c7f18-d382-4658-b0cd-35283f9df5f9",
        "outputId": "f62675fb-024e-42b4-cf53-f4b451aaefa0"
      },
      "outputs": [
        {
          "name": "stdout",
          "output_type": "stream",
          "text": [
            "[[[4 1 3]\n",
            "  [4 5 1]\n",
            "  [8 5 3]]\n",
            "\n",
            " [[6 7 1]\n",
            "  [5 2 2]\n",
            "  [4 1 9]]\n",
            "\n",
            " [[1 1 8]\n",
            "  [1 2 1]\n",
            "  [5 9 1]]]\n"
          ]
        }
      ],
      "source": [
        "random_array = np.random.randint(1,10,(3,3,3))\n",
        "\n",
        "print(random_array)"
      ]
    },
    {
      "cell_type": "code",
      "execution_count": null,
      "id": "5f57da52-50eb-4060-b693-7c2d184c1391",
      "metadata": {
        "id": "5f57da52-50eb-4060-b693-7c2d184c1391",
        "outputId": "c93c3470-efbc-46a9-8402-d979b2fdd620"
      },
      "outputs": [
        {
          "data": {
            "text/plain": [
              "array([[0, 1, 0],\n",
              "       [1, 0, 2],\n",
              "       [2, 1, 1]])"
            ]
          },
          "execution_count": 23,
          "metadata": {},
          "output_type": "execute_result"
        }
      ],
      "source": [
        "# indices of max value\n",
        "\n",
        "max_indices = np.argmax(random_array, axis=2)\n",
        "\n",
        "max_indices"
      ]
    },
    {
      "cell_type": "code",
      "execution_count": null,
      "id": "23ac1f61-d8b2-42a4-a9e0-6f21ba3eec9d",
      "metadata": {
        "id": "23ac1f61-d8b2-42a4-a9e0-6f21ba3eec9d",
        "outputId": "d581dae9-47fa-4544-ac56-6a0aac575c81"
      },
      "outputs": [
        {
          "data": {
            "text/plain": [
              "array([[[ 0,  1,  0],\n",
              "        [ 4,  0,  2],\n",
              "        [16,  5,  3]],\n",
              "\n",
              "       [[ 0,  7,  0],\n",
              "        [ 5,  0,  4],\n",
              "        [ 8,  1,  9]],\n",
              "\n",
              "       [[ 0,  1,  0],\n",
              "        [ 1,  0,  2],\n",
              "        [10,  9,  1]]])"
            ]
          },
          "execution_count": 24,
          "metadata": {},
          "output_type": "execute_result"
        }
      ],
      "source": [
        "# element wise multiplication\n",
        "\n",
        "np.multiply(random_array, max_indices)"
      ]
    },
    {
      "cell_type": "markdown",
      "id": "0d2f2d0a-c901-418b-877a-b074f4ca7fa7",
      "metadata": {
        "id": "0d2f2d0a-c901-418b-877a-b074f4ca7fa7"
      },
      "source": [
        "Q7. Clean and transform the 'Phone' column in the sample dataset to remove non-numeric characters and\n",
        "convert it to a numeric data type Also display the taPle attriPutes and data types of each column"
      ]
    },
    {
      "cell_type": "code",
      "execution_count": null,
      "id": "16bbd552-ea9a-4742-b36f-2a8b4ca87730",
      "metadata": {
        "id": "16bbd552-ea9a-4742-b36f-2a8b4ca87730"
      },
      "outputs": [],
      "source": [
        "# importing library\n",
        "\n",
        "import pandas as pd"
      ]
    },
    {
      "cell_type": "code",
      "execution_count": null,
      "id": "49d2d116-e492-4078-9af3-390e7dd656dd",
      "metadata": {
        "id": "49d2d116-e492-4078-9af3-390e7dd656dd",
        "outputId": "dacb3f18-01c6-4905-dda4-d69d59ee397b"
      },
      "outputs": [
        {
          "data": {
            "text/html": [
              "<div>\n",
              "<style scoped>\n",
              "    .dataframe tbody tr th:only-of-type {\n",
              "        vertical-align: middle;\n",
              "    }\n",
              "\n",
              "    .dataframe tbody tr th {\n",
              "        vertical-align: top;\n",
              "    }\n",
              "\n",
              "    .dataframe thead th {\n",
              "        text-align: right;\n",
              "    }\n",
              "</style>\n",
              "<table border=\"1\" class=\"dataframe\">\n",
              "  <thead>\n",
              "    <tr style=\"text-align: right;\">\n",
              "      <th></th>\n",
              "      <th>Index</th>\n",
              "      <th>User Id</th>\n",
              "      <th>First Name</th>\n",
              "      <th>Last Name</th>\n",
              "      <th>Gender</th>\n",
              "      <th>Email</th>\n",
              "      <th>Phone</th>\n",
              "      <th>Date of birth</th>\n",
              "      <th>Job Title</th>\n",
              "      <th>Salary</th>\n",
              "    </tr>\n",
              "  </thead>\n",
              "  <tbody>\n",
              "    <tr>\n",
              "      <th>0</th>\n",
              "      <td>1</td>\n",
              "      <td>8717bbf45cCDbEe</td>\n",
              "      <td>Shelia</td>\n",
              "      <td>Mahoney</td>\n",
              "      <td>Male</td>\n",
              "      <td>pwarner@example.org</td>\n",
              "      <td>857.139.8239</td>\n",
              "      <td>27-01-2014</td>\n",
              "      <td>Probation officer</td>\n",
              "      <td>90000</td>\n",
              "    </tr>\n",
              "    <tr>\n",
              "      <th>1</th>\n",
              "      <td>2</td>\n",
              "      <td>3d5AD30A4cD38ed</td>\n",
              "      <td>Jo</td>\n",
              "      <td>Rivers</td>\n",
              "      <td>Female</td>\n",
              "      <td>fergusonkatherine@example.net</td>\n",
              "      <td>NaN</td>\n",
              "      <td>26-07-1931</td>\n",
              "      <td>Dancer</td>\n",
              "      <td>80000</td>\n",
              "    </tr>\n",
              "    <tr>\n",
              "      <th>2</th>\n",
              "      <td>3</td>\n",
              "      <td>810Ce0F276Badec</td>\n",
              "      <td>Sheryl</td>\n",
              "      <td>Lowery</td>\n",
              "      <td>Female</td>\n",
              "      <td>fhoward@example.org</td>\n",
              "      <td>(599)782-0605</td>\n",
              "      <td>25-11-2013</td>\n",
              "      <td>Copy</td>\n",
              "      <td>50000</td>\n",
              "    </tr>\n",
              "    <tr>\n",
              "      <th>3</th>\n",
              "      <td>4</td>\n",
              "      <td>BF2a889C00f0cE1</td>\n",
              "      <td>Whitney</td>\n",
              "      <td>Hooper</td>\n",
              "      <td>Male</td>\n",
              "      <td>zjohnston@example.com</td>\n",
              "      <td>NaN</td>\n",
              "      <td>17-11-2012</td>\n",
              "      <td>Counselling psychologist</td>\n",
              "      <td>65000</td>\n",
              "    </tr>\n",
              "    <tr>\n",
              "      <th>4</th>\n",
              "      <td>5</td>\n",
              "      <td>9afFEafAe1CBBB9</td>\n",
              "      <td>Lindsey</td>\n",
              "      <td>Rice</td>\n",
              "      <td>Female</td>\n",
              "      <td>elin@example.net</td>\n",
              "      <td>(390)417-1635x3010</td>\n",
              "      <td>15-04-1923</td>\n",
              "      <td>Biomedical engineer</td>\n",
              "      <td>100000</td>\n",
              "    </tr>\n",
              "  </tbody>\n",
              "</table>\n",
              "</div>"
            ],
            "text/plain": [
              "   Index          User Id First Name Last Name  Gender  \\\n",
              "0      1  8717bbf45cCDbEe     Shelia   Mahoney    Male   \n",
              "1      2  3d5AD30A4cD38ed         Jo    Rivers  Female   \n",
              "2      3  810Ce0F276Badec     Sheryl    Lowery  Female   \n",
              "3      4  BF2a889C00f0cE1    Whitney    Hooper    Male   \n",
              "4      5  9afFEafAe1CBBB9    Lindsey      Rice  Female   \n",
              "\n",
              "                           Email               Phone Date of birth  \\\n",
              "0            pwarner@example.org        857.139.8239    27-01-2014   \n",
              "1  fergusonkatherine@example.net                 NaN    26-07-1931   \n",
              "2            fhoward@example.org       (599)782-0605    25-11-2013   \n",
              "3          zjohnston@example.com                 NaN    17-11-2012   \n",
              "4               elin@example.net  (390)417-1635x3010    15-04-1923   \n",
              "\n",
              "                  Job Title  Salary  \n",
              "0         Probation officer   90000  \n",
              "1                    Dancer   80000  \n",
              "2                      Copy   50000  \n",
              "3  Counselling psychologist   65000  \n",
              "4       Biomedical engineer  100000  "
            ]
          },
          "execution_count": 29,
          "metadata": {},
          "output_type": "execute_result"
        }
      ],
      "source": [
        "df = pd.read_csv('People Data.csv')\n",
        "df.head()"
      ]
    },
    {
      "cell_type": "code",
      "execution_count": null,
      "id": "f7165058-ba76-46a5-963b-777a5a5e5515",
      "metadata": {
        "id": "f7165058-ba76-46a5-963b-777a5a5e5515",
        "outputId": "e18fdc19-d6d0-4fe9-f2bc-1ab4d0edb2e5"
      },
      "outputs": [
        {
          "data": {
            "text/plain": [
              "0        8571398239\n",
              "1                 0\n",
              "2        5997820605\n",
              "3                 0\n",
              "4    39041716353010\n",
              "Name: Phone, dtype: int64"
            ]
          },
          "execution_count": 31,
          "metadata": {},
          "output_type": "execute_result"
        }
      ],
      "source": [
        "# clean and transform Phone column\n",
        "\n",
        "# Fill missing values with a default value (e.g., 0)\n",
        "df['Phone'] = df['Phone'].fillna('0')\n",
        "df['Phone'] = df['Phone'].str.replace(r'\\D', '', regex=True).astype(int)\n",
        "df['Phone'].head()"
      ]
    },
    {
      "cell_type": "code",
      "execution_count": null,
      "id": "24d6412d-06f8-4acc-902c-988fd79527ab",
      "metadata": {
        "id": "24d6412d-06f8-4acc-902c-988fd79527ab",
        "outputId": "ca9423af-074b-417c-90a5-2cdba3000d98"
      },
      "outputs": [
        {
          "name": "stdout",
          "output_type": "stream",
          "text": [
            "<class 'pandas.core.frame.DataFrame'>\n",
            "RangeIndex: 1000 entries, 0 to 999\n",
            "Data columns (total 10 columns):\n",
            " #   Column         Non-Null Count  Dtype \n",
            "---  ------         --------------  ----- \n",
            " 0   Index          1000 non-null   int64 \n",
            " 1   User Id        1000 non-null   object\n",
            " 2   First Name     1000 non-null   object\n",
            " 3   Last Name      1000 non-null   object\n",
            " 4   Gender         1000 non-null   object\n",
            " 5   Email          1000 non-null   object\n",
            " 6   Phone          1000 non-null   int64 \n",
            " 7   Date of birth  1000 non-null   object\n",
            " 8   Job Title      1000 non-null   object\n",
            " 9   Salary         1000 non-null   int64 \n",
            "dtypes: int64(3), object(7)\n",
            "memory usage: 78.2+ KB\n"
          ]
        }
      ],
      "source": [
        "# table attribute and data type of each column\n",
        "df.info()"
      ]
    },
    {
      "cell_type": "markdown",
      "id": "efe1188a-d1e0-4e09-ae77-b744cbc550bd",
      "metadata": {
        "id": "efe1188a-d1e0-4e09-ae77-b744cbc550bd"
      },
      "source": [
        "Q8.  Perform the following tasks using people dataset:\n",
        "\n",
        " a) Read the 'data.csv' file using pandas, skipping the first 50 rows.\n",
        "\n",
        " b) Only read the columns: 'Last Name', ‘Gender’,’Email’,‘Phone’ and ‘Salary’ from the file.\n",
        "\n",
        " c) Display the first 10 rows of the filtered dataset.\n",
        "\n",
        " d) Extract the ‘Salary’' column as a Series and display its last 5 values"
      ]
    },
    {
      "cell_type": "code",
      "execution_count": null,
      "id": "00f98570-4c84-48ba-a403-cbce19aa2c24",
      "metadata": {
        "id": "00f98570-4c84-48ba-a403-cbce19aa2c24",
        "outputId": "cc07b088-1042-4f4a-d3ab-4aab0806649e"
      },
      "outputs": [
        {
          "data": {
            "text/html": [
              "<div>\n",
              "<style scoped>\n",
              "    .dataframe tbody tr th:only-of-type {\n",
              "        vertical-align: middle;\n",
              "    }\n",
              "\n",
              "    .dataframe tbody tr th {\n",
              "        vertical-align: top;\n",
              "    }\n",
              "\n",
              "    .dataframe thead th {\n",
              "        text-align: right;\n",
              "    }\n",
              "</style>\n",
              "<table border=\"1\" class=\"dataframe\">\n",
              "  <thead>\n",
              "    <tr style=\"text-align: right;\">\n",
              "      <th></th>\n",
              "      <th>User Id</th>\n",
              "      <th>First Name</th>\n",
              "      <th>Last Name</th>\n",
              "      <th>Gender</th>\n",
              "      <th>Email</th>\n",
              "      <th>Phone</th>\n",
              "      <th>Date of birth</th>\n",
              "      <th>Job Title</th>\n",
              "      <th>Salary</th>\n",
              "    </tr>\n",
              "    <tr>\n",
              "      <th>Index</th>\n",
              "      <th></th>\n",
              "      <th></th>\n",
              "      <th></th>\n",
              "      <th></th>\n",
              "      <th></th>\n",
              "      <th></th>\n",
              "      <th></th>\n",
              "      <th></th>\n",
              "      <th></th>\n",
              "    </tr>\n",
              "  </thead>\n",
              "  <tbody>\n",
              "    <tr>\n",
              "      <th>51</th>\n",
              "      <td>CccE5DAb6E288e5</td>\n",
              "      <td>Jo</td>\n",
              "      <td>Zavala</td>\n",
              "      <td>Male</td>\n",
              "      <td>pamela64@example.net</td>\n",
              "      <td>001-859-448-9935x54536</td>\n",
              "      <td>23-11-1992</td>\n",
              "      <td>Nurse, adult</td>\n",
              "      <td>80000</td>\n",
              "    </tr>\n",
              "    <tr>\n",
              "      <th>52</th>\n",
              "      <td>DfBDc3621D4bcec</td>\n",
              "      <td>Joshua</td>\n",
              "      <td>Carey</td>\n",
              "      <td>Female</td>\n",
              "      <td>dianashepherd@example.net</td>\n",
              "      <td>001-274-739-8470x814</td>\n",
              "      <td>07-01-1915</td>\n",
              "      <td>Seismic interpreter</td>\n",
              "      <td>70000</td>\n",
              "    </tr>\n",
              "    <tr>\n",
              "      <th>53</th>\n",
              "      <td>f55b0A249f5E44D</td>\n",
              "      <td>Rickey</td>\n",
              "      <td>Hobbs</td>\n",
              "      <td>Female</td>\n",
              "      <td>ingramtiffany@example.org</td>\n",
              "      <td>241.179.9509x498</td>\n",
              "      <td>01-07-1910</td>\n",
              "      <td>Barrister</td>\n",
              "      <td>60000</td>\n",
              "    </tr>\n",
              "    <tr>\n",
              "      <th>54</th>\n",
              "      <td>Ed71DcfaBFd0beE</td>\n",
              "      <td>Robyn</td>\n",
              "      <td>Reilly</td>\n",
              "      <td>Male</td>\n",
              "      <td>carriecrawford@example.org</td>\n",
              "      <td>207.797.8345x6177</td>\n",
              "      <td>27-07-1982</td>\n",
              "      <td>Engineer, structural</td>\n",
              "      <td>100000</td>\n",
              "    </tr>\n",
              "    <tr>\n",
              "      <th>55</th>\n",
              "      <td>FDaFD0c3f5387EC</td>\n",
              "      <td>Christina</td>\n",
              "      <td>Conrad</td>\n",
              "      <td>Male</td>\n",
              "      <td>fuentesclaudia@example.net</td>\n",
              "      <td>001-599-042-7428x143</td>\n",
              "      <td>06-01-1998</td>\n",
              "      <td>Producer, radio</td>\n",
              "      <td>50000</td>\n",
              "    </tr>\n",
              "  </tbody>\n",
              "</table>\n",
              "</div>"
            ],
            "text/plain": [
              "               User Id First Name Last Name  Gender  \\\n",
              "Index                                                 \n",
              "51     CccE5DAb6E288e5         Jo    Zavala    Male   \n",
              "52     DfBDc3621D4bcec     Joshua     Carey  Female   \n",
              "53     f55b0A249f5E44D     Rickey     Hobbs  Female   \n",
              "54     Ed71DcfaBFd0beE      Robyn    Reilly    Male   \n",
              "55     FDaFD0c3f5387EC  Christina    Conrad    Male   \n",
              "\n",
              "                            Email                   Phone Date of birth  \\\n",
              "Index                                                                     \n",
              "51           pamela64@example.net  001-859-448-9935x54536    23-11-1992   \n",
              "52      dianashepherd@example.net    001-274-739-8470x814    07-01-1915   \n",
              "53      ingramtiffany@example.org        241.179.9509x498    01-07-1910   \n",
              "54     carriecrawford@example.org       207.797.8345x6177    27-07-1982   \n",
              "55     fuentesclaudia@example.net    001-599-042-7428x143    06-01-1998   \n",
              "\n",
              "                  Job Title  Salary  \n",
              "Index                                \n",
              "51             Nurse, adult   80000  \n",
              "52      Seismic interpreter   70000  \n",
              "53                Barrister   60000  \n",
              "54     Engineer, structural  100000  \n",
              "55          Producer, radio   50000  "
            ]
          },
          "execution_count": 41,
          "metadata": {},
          "output_type": "execute_result"
        }
      ],
      "source": [
        "# a.\n",
        "\n",
        "df = pd.read_csv('People Data.csv', skiprows=range(1, 51))\n",
        "\n",
        "df.set_index(df.columns[0], inplace=True)\n",
        "df.head()"
      ]
    },
    {
      "cell_type": "code",
      "execution_count": null,
      "id": "038bb6dc-e9a5-48e0-b878-f3db62ff19ff",
      "metadata": {
        "id": "038bb6dc-e9a5-48e0-b878-f3db62ff19ff"
      },
      "outputs": [],
      "source": [
        "# b. Only read the columns: 'Last Name', ‘Gender’,’Email’,‘Phone’ and ‘Salary’ from the file.\n",
        "columns_to_read = ['Last Name', 'Gender', 'Email', 'Phone', 'Salary']\n",
        "\n",
        "filtered_df = df[columns_to_read]"
      ]
    },
    {
      "cell_type": "code",
      "execution_count": null,
      "id": "5890f898-bce2-4518-ac8d-db7878ac3ccf",
      "metadata": {
        "id": "5890f898-bce2-4518-ac8d-db7878ac3ccf",
        "outputId": "34b5cb42-37f9-4ca5-bbf3-27ca78aff9b9"
      },
      "outputs": [
        {
          "data": {
            "text/html": [
              "<div>\n",
              "<style scoped>\n",
              "    .dataframe tbody tr th:only-of-type {\n",
              "        vertical-align: middle;\n",
              "    }\n",
              "\n",
              "    .dataframe tbody tr th {\n",
              "        vertical-align: top;\n",
              "    }\n",
              "\n",
              "    .dataframe thead th {\n",
              "        text-align: right;\n",
              "    }\n",
              "</style>\n",
              "<table border=\"1\" class=\"dataframe\">\n",
              "  <thead>\n",
              "    <tr style=\"text-align: right;\">\n",
              "      <th></th>\n",
              "      <th>Last Name</th>\n",
              "      <th>Gender</th>\n",
              "      <th>Email</th>\n",
              "      <th>Phone</th>\n",
              "      <th>Salary</th>\n",
              "    </tr>\n",
              "    <tr>\n",
              "      <th>Index</th>\n",
              "      <th></th>\n",
              "      <th></th>\n",
              "      <th></th>\n",
              "      <th></th>\n",
              "      <th></th>\n",
              "    </tr>\n",
              "  </thead>\n",
              "  <tbody>\n",
              "    <tr>\n",
              "      <th>51</th>\n",
              "      <td>Zavala</td>\n",
              "      <td>Male</td>\n",
              "      <td>pamela64@example.net</td>\n",
              "      <td>001-859-448-9935x54536</td>\n",
              "      <td>80000</td>\n",
              "    </tr>\n",
              "    <tr>\n",
              "      <th>52</th>\n",
              "      <td>Carey</td>\n",
              "      <td>Female</td>\n",
              "      <td>dianashepherd@example.net</td>\n",
              "      <td>001-274-739-8470x814</td>\n",
              "      <td>70000</td>\n",
              "    </tr>\n",
              "    <tr>\n",
              "      <th>53</th>\n",
              "      <td>Hobbs</td>\n",
              "      <td>Female</td>\n",
              "      <td>ingramtiffany@example.org</td>\n",
              "      <td>241.179.9509x498</td>\n",
              "      <td>60000</td>\n",
              "    </tr>\n",
              "    <tr>\n",
              "      <th>54</th>\n",
              "      <td>Reilly</td>\n",
              "      <td>Male</td>\n",
              "      <td>carriecrawford@example.org</td>\n",
              "      <td>207.797.8345x6177</td>\n",
              "      <td>100000</td>\n",
              "    </tr>\n",
              "    <tr>\n",
              "      <th>55</th>\n",
              "      <td>Conrad</td>\n",
              "      <td>Male</td>\n",
              "      <td>fuentesclaudia@example.net</td>\n",
              "      <td>001-599-042-7428x143</td>\n",
              "      <td>50000</td>\n",
              "    </tr>\n",
              "    <tr>\n",
              "      <th>56</th>\n",
              "      <td>Cole</td>\n",
              "      <td>Male</td>\n",
              "      <td>kaneaudrey@example.org</td>\n",
              "      <td>663-280-5834</td>\n",
              "      <td>85000</td>\n",
              "    </tr>\n",
              "    <tr>\n",
              "      <th>57</th>\n",
              "      <td>Donovan</td>\n",
              "      <td>Male</td>\n",
              "      <td>rebekahsantos@example.net</td>\n",
              "      <td>NaN</td>\n",
              "      <td>65000</td>\n",
              "    </tr>\n",
              "    <tr>\n",
              "      <th>58</th>\n",
              "      <td>Little</td>\n",
              "      <td>Female</td>\n",
              "      <td>craig28@example.com</td>\n",
              "      <td>125.219.3673x0076</td>\n",
              "      <td>60000</td>\n",
              "    </tr>\n",
              "    <tr>\n",
              "      <th>59</th>\n",
              "      <td>Dawson</td>\n",
              "      <td>Female</td>\n",
              "      <td>connercourtney@example.net</td>\n",
              "      <td>650-748-3069x64529</td>\n",
              "      <td>60000</td>\n",
              "    </tr>\n",
              "    <tr>\n",
              "      <th>60</th>\n",
              "      <td>Page</td>\n",
              "      <td>Male</td>\n",
              "      <td>harrygallagher@example.com</td>\n",
              "      <td>849.500.6331x717</td>\n",
              "      <td>60000</td>\n",
              "    </tr>\n",
              "  </tbody>\n",
              "</table>\n",
              "</div>"
            ],
            "text/plain": [
              "      Last Name  Gender                       Email                   Phone  \\\n",
              "Index                                                                         \n",
              "51       Zavala    Male        pamela64@example.net  001-859-448-9935x54536   \n",
              "52        Carey  Female   dianashepherd@example.net    001-274-739-8470x814   \n",
              "53        Hobbs  Female   ingramtiffany@example.org        241.179.9509x498   \n",
              "54       Reilly    Male  carriecrawford@example.org       207.797.8345x6177   \n",
              "55       Conrad    Male  fuentesclaudia@example.net    001-599-042-7428x143   \n",
              "56         Cole    Male      kaneaudrey@example.org            663-280-5834   \n",
              "57      Donovan    Male   rebekahsantos@example.net                     NaN   \n",
              "58       Little  Female         craig28@example.com       125.219.3673x0076   \n",
              "59       Dawson  Female  connercourtney@example.net      650-748-3069x64529   \n",
              "60         Page    Male  harrygallagher@example.com        849.500.6331x717   \n",
              "\n",
              "       Salary  \n",
              "Index          \n",
              "51      80000  \n",
              "52      70000  \n",
              "53      60000  \n",
              "54     100000  \n",
              "55      50000  \n",
              "56      85000  \n",
              "57      65000  \n",
              "58      60000  \n",
              "59      60000  \n",
              "60      60000  "
            ]
          },
          "execution_count": 46,
          "metadata": {},
          "output_type": "execute_result"
        }
      ],
      "source": [
        "# c. Display the first 10 rows of the filtered dataset.\n",
        "\n",
        "filtered_df.head(10)"
      ]
    },
    {
      "cell_type": "code",
      "execution_count": null,
      "id": "5f6cb95d-e84e-41c9-a53b-641f2377be38",
      "metadata": {
        "id": "5f6cb95d-e84e-41c9-a53b-641f2377be38",
        "outputId": "3323c5ad-a8af-410a-bd2f-14a624d4b41a"
      },
      "outputs": [
        {
          "data": {
            "text/plain": [
              "Index\n",
              "996      90000\n",
              "997      50000\n",
              "998      60000\n",
              "999     100000\n",
              "1000     90000\n",
              "Name: Salary, dtype: int64"
            ]
          },
          "execution_count": 47,
          "metadata": {},
          "output_type": "execute_result"
        }
      ],
      "source": [
        "# d. Extract the ‘Salary’' column as a Series and display its last 5 values\n",
        "\n",
        "salary = filtered_df['Salary']\n",
        "\n",
        "salary.tail()"
      ]
    },
    {
      "cell_type": "markdown",
      "id": "4139b52e-9f21-491c-b026-8c8a02cb24ac",
      "metadata": {
        "id": "4139b52e-9f21-491c-b026-8c8a02cb24ac"
      },
      "source": [
        "Q9. Filter and select rows from the People_Dataset, where the “Last Name' column contains the name 'Duke',\n",
        "'Gender' column contains the word Female and ‘Salary’ should Pe less than 85000."
      ]
    },
    {
      "cell_type": "code",
      "execution_count": null,
      "id": "93b53bcc-ef94-49c1-b4a0-d3943203c6ce",
      "metadata": {
        "id": "93b53bcc-ef94-49c1-b4a0-d3943203c6ce",
        "outputId": "50910c48-53cf-491d-874a-74481842cfaa"
      },
      "outputs": [
        {
          "data": {
            "text/html": [
              "<div>\n",
              "<style scoped>\n",
              "    .dataframe tbody tr th:only-of-type {\n",
              "        vertical-align: middle;\n",
              "    }\n",
              "\n",
              "    .dataframe tbody tr th {\n",
              "        vertical-align: top;\n",
              "    }\n",
              "\n",
              "    .dataframe thead th {\n",
              "        text-align: right;\n",
              "    }\n",
              "</style>\n",
              "<table border=\"1\" class=\"dataframe\">\n",
              "  <thead>\n",
              "    <tr style=\"text-align: right;\">\n",
              "      <th></th>\n",
              "      <th>Last Name</th>\n",
              "      <th>Gender</th>\n",
              "      <th>Email</th>\n",
              "      <th>Phone</th>\n",
              "      <th>Salary</th>\n",
              "    </tr>\n",
              "    <tr>\n",
              "      <th>Index</th>\n",
              "      <th></th>\n",
              "      <th></th>\n",
              "      <th></th>\n",
              "      <th></th>\n",
              "      <th></th>\n",
              "    </tr>\n",
              "  </thead>\n",
              "  <tbody>\n",
              "    <tr>\n",
              "      <th>211</th>\n",
              "      <td>Duke</td>\n",
              "      <td>Female</td>\n",
              "      <td>robin78@example.com</td>\n",
              "      <td>740.434.0212</td>\n",
              "      <td>50000</td>\n",
              "    </tr>\n",
              "    <tr>\n",
              "      <th>458</th>\n",
              "      <td>Duke</td>\n",
              "      <td>Female</td>\n",
              "      <td>perryhoffman@example.org</td>\n",
              "      <td>+1-903-596-0995x489</td>\n",
              "      <td>50000</td>\n",
              "    </tr>\n",
              "    <tr>\n",
              "      <th>730</th>\n",
              "      <td>Duke</td>\n",
              "      <td>Female</td>\n",
              "      <td>kevinkramer@example.net</td>\n",
              "      <td>982.692.6257</td>\n",
              "      <td>70000</td>\n",
              "    </tr>\n",
              "  </tbody>\n",
              "</table>\n",
              "</div>"
            ],
            "text/plain": [
              "      Last Name  Gender                     Email                Phone  Salary\n",
              "Index                                                                         \n",
              "211        Duke  Female       robin78@example.com         740.434.0212   50000\n",
              "458        Duke  Female  perryhoffman@example.org  +1-903-596-0995x489   50000\n",
              "730        Duke  Female   kevinkramer@example.net         982.692.6257   70000"
            ]
          },
          "execution_count": 54,
          "metadata": {},
          "output_type": "execute_result"
        }
      ],
      "source": [
        "filtered_df[(filtered_df['Last Name'] == 'Duke') & (filtered_df['Gender'] == 'Female') & (filtered_df['Salary'] < 85000)]\n"
      ]
    },
    {
      "cell_type": "markdown",
      "id": "a36aa2fa-d5f1-4626-8d6c-7eb726690db7",
      "metadata": {
        "id": "a36aa2fa-d5f1-4626-8d6c-7eb726690db7"
      },
      "source": [
        "Q10.  Create a 7*5 Dataframe in Pandas using a series generated from 35 random integers Petween 1 to 6?"
      ]
    },
    {
      "cell_type": "code",
      "execution_count": null,
      "id": "317e9ce5-f6b1-40e5-adff-9c816595bd45",
      "metadata": {
        "id": "317e9ce5-f6b1-40e5-adff-9c816595bd45",
        "outputId": "196288e1-8764-4466-9932-19659c3c28b4"
      },
      "outputs": [
        {
          "name": "stdout",
          "output_type": "stream",
          "text": [
            "   0  1  2  3  4\n",
            "0  1  2  4  6  4\n",
            "1  6  6  4  4  6\n",
            "2  6  4  6  2  3\n",
            "3  3  4  6  1  3\n",
            "4  3  5  1  5  3\n",
            "5  6  5  3  5  2\n",
            "6  5  5  5  5  6\n"
          ]
        }
      ],
      "source": [
        "random_integers = np.random.randint(1, 7, 35)\n",
        "\n",
        "# Reshape the series into a 7x5 array\n",
        "reshaped_array = random_integers.reshape(7, 5)\n",
        "\n",
        "# Create a DataFrame from the reshaped array\n",
        "df = pd.DataFrame(reshaped_array)\n",
        "\n",
        "print(df)"
      ]
    },
    {
      "cell_type": "markdown",
      "id": "c2be8af8-57ff-4e70-b7a0-1dc000cfc511",
      "metadata": {
        "id": "c2be8af8-57ff-4e70-b7a0-1dc000cfc511"
      },
      "source": [
        "Q11. Create two different Series, each of length 50, with the following criteria:\n",
        "\n",
        "a) The first Series should contain random numbers ranging from 10 to 50.\n",
        "\n",
        "b) The second Series should contain random numbers ranging from 100 to 1000.\n",
        "\n",
        "c) Create a DataFrame by joining these Series by column, and, change the names of the columns to 'col1', 'col2',\n",
        "etc&"
      ]
    },
    {
      "cell_type": "code",
      "execution_count": null,
      "id": "74722e21-2d75-4d6f-bf77-56cffdcfe4d6",
      "metadata": {
        "id": "74722e21-2d75-4d6f-bf77-56cffdcfe4d6",
        "outputId": "f61229ea-8a5c-4899-85b3-b6f10a08bc68"
      },
      "outputs": [
        {
          "name": "stdout",
          "output_type": "stream",
          "text": [
            "0     36\n",
            "1     19\n",
            "2     36\n",
            "3     29\n",
            "4     43\n",
            "5     43\n",
            "6     16\n",
            "7     26\n",
            "8     31\n",
            "9     23\n",
            "10    12\n",
            "11    27\n",
            "12    46\n",
            "13    32\n",
            "14    39\n",
            "15    29\n",
            "16    30\n",
            "17    10\n",
            "18    42\n",
            "19    21\n",
            "20    15\n",
            "21    20\n",
            "22    40\n",
            "23    40\n",
            "24    21\n",
            "25    32\n",
            "26    29\n",
            "27    11\n",
            "28    11\n",
            "29    20\n",
            "30    45\n",
            "31    25\n",
            "32    45\n",
            "33    11\n",
            "34    17\n",
            "35    48\n",
            "36    10\n",
            "37    49\n",
            "38    11\n",
            "39    34\n",
            "40    34\n",
            "41    27\n",
            "42    28\n",
            "43    37\n",
            "44    34\n",
            "45    43\n",
            "46    43\n",
            "47    38\n",
            "48    38\n",
            "49    33\n",
            "dtype: int64\n"
          ]
        }
      ],
      "source": [
        "# a.\n",
        "\n",
        "random_numbers = pd.Series(np.random.randint(10, 51, 50))\n",
        "print(random_numbers)"
      ]
    },
    {
      "cell_type": "code",
      "execution_count": null,
      "id": "c2fc63e3-8753-4a06-a438-aeb73a955026",
      "metadata": {
        "id": "c2fc63e3-8753-4a06-a438-aeb73a955026",
        "outputId": "fceeb55f-6f45-4f29-e5be-f5790f746bc9"
      },
      "outputs": [
        {
          "name": "stdout",
          "output_type": "stream",
          "text": [
            "0     293\n",
            "1     937\n",
            "2     402\n",
            "3     761\n",
            "4     799\n",
            "5     283\n",
            "6     297\n",
            "7     875\n",
            "8     936\n",
            "9     120\n",
            "10    461\n",
            "11    452\n",
            "12    347\n",
            "13    773\n",
            "14    543\n",
            "15    669\n",
            "16    682\n",
            "17    333\n",
            "18    841\n",
            "19    698\n",
            "20    737\n",
            "21    290\n",
            "22    434\n",
            "23    629\n",
            "24    189\n",
            "25    396\n",
            "26    872\n",
            "27    269\n",
            "28    423\n",
            "29    575\n",
            "30    746\n",
            "31    495\n",
            "32    941\n",
            "33    420\n",
            "34    959\n",
            "35    961\n",
            "36    870\n",
            "37    194\n",
            "38    666\n",
            "39    762\n",
            "40    144\n",
            "41    243\n",
            "42    573\n",
            "43    106\n",
            "44    783\n",
            "45    120\n",
            "46    747\n",
            "47    491\n",
            "48    173\n",
            "49    983\n",
            "dtype: int64\n"
          ]
        }
      ],
      "source": [
        "# b.\n",
        "\n",
        "random_numbers_2 = pd.Series(np.random.randint(100, 1000, 50))\n",
        "print(random_numbers)"
      ]
    },
    {
      "cell_type": "code",
      "execution_count": null,
      "id": "2e380d5b-e25d-41ed-a909-e8948ab44f08",
      "metadata": {
        "id": "2e380d5b-e25d-41ed-a909-e8948ab44f08",
        "outputId": "28a1ef26-edd7-456b-db7d-47090716ef7c"
      },
      "outputs": [
        {
          "name": "stdout",
          "output_type": "stream",
          "text": [
            "    col1  col2\n",
            "0    293   762\n",
            "1    937   897\n",
            "2    402   770\n",
            "3    761   808\n",
            "4    799   482\n",
            "5    283   855\n",
            "6    297   984\n",
            "7    875   427\n",
            "8    936   252\n",
            "9    120   860\n",
            "10   461   695\n",
            "11   452   724\n",
            "12   347   866\n",
            "13   773   458\n",
            "14   543   339\n",
            "15   669   638\n",
            "16   682   433\n",
            "17   333   662\n",
            "18   841   280\n",
            "19   698   310\n",
            "20   737   365\n",
            "21   290   890\n",
            "22   434   795\n",
            "23   629   383\n",
            "24   189   584\n",
            "25   396   451\n",
            "26   872   414\n",
            "27   269   402\n",
            "28   423   283\n",
            "29   575   205\n",
            "30   746   507\n",
            "31   495   394\n",
            "32   941   616\n",
            "33   420   960\n",
            "34   959   923\n",
            "35   961   543\n",
            "36   870   516\n",
            "37   194   512\n",
            "38   666   227\n",
            "39   762   855\n",
            "40   144   147\n",
            "41   243   388\n",
            "42   573   670\n",
            "43   106   185\n",
            "44   783   179\n",
            "45   120   145\n",
            "46   747   914\n",
            "47   491   398\n",
            "48   173   160\n",
            "49   983   934\n"
          ]
        }
      ],
      "source": [
        "# Create a DataFrame by joining the Series by column\n",
        "df = pd.concat([random_numbers, random_numbers_2], axis=1)\n",
        "\n",
        "# Change the names of the columns\n",
        "df.columns = ['col1', 'col2']\n",
        "\n",
        "# Display the DataFrame\n",
        "print(df)"
      ]
    },
    {
      "cell_type": "markdown",
      "id": "f68b645c-e3c6-45a6-bbd7-9e673ffbe6b5",
      "metadata": {
        "id": "f68b645c-e3c6-45a6-bbd7-9e673ffbe6b5"
      },
      "source": [
        "Q12.  Perform the following operations using people data set:\n",
        "\n",
        "a) Delete the 'Email', 'Phone', and 'Date of birth' columns from the dataset.\n",
        "\n",
        "b) Delete the rows containing any missing values.\n",
        "\n",
        "d) Print the final out\u0018ut also"
      ]
    },
    {
      "cell_type": "code",
      "execution_count": null,
      "id": "c8280196-2165-4a51-85e3-cc1945105fb1",
      "metadata": {
        "id": "c8280196-2165-4a51-85e3-cc1945105fb1",
        "outputId": "a990d744-b66d-4bf0-90f3-04a47a835dc1"
      },
      "outputs": [
        {
          "data": {
            "text/plain": [
              "Index(['Index', 'User Id', 'First Name', 'Last Name', 'Gender', 'Email',\n",
              "       'Phone', 'Date of birth', 'Job Title', 'Salary'],\n",
              "      dtype='object')"
            ]
          },
          "execution_count": 67,
          "metadata": {},
          "output_type": "execute_result"
        }
      ],
      "source": [
        "df = pd.read_csv('People Data.csv')\n",
        "df.columns"
      ]
    },
    {
      "cell_type": "code",
      "execution_count": null,
      "id": "d6670fcf-3d96-48b1-b945-d0cd2d3634e2",
      "metadata": {
        "id": "d6670fcf-3d96-48b1-b945-d0cd2d3634e2",
        "outputId": "4fe93eda-6f28-449a-cd07-b68f5579546e"
      },
      "outputs": [
        {
          "data": {
            "text/plain": [
              "Index(['Index', 'User Id', 'First Name', 'Last Name', 'Gender', 'Job Title',\n",
              "       'Salary'],\n",
              "      dtype='object')"
            ]
          },
          "execution_count": 68,
          "metadata": {},
          "output_type": "execute_result"
        }
      ],
      "source": [
        "# a.\n",
        "df = df.drop(['Email', 'Phone', 'Date of birth'], axis=1)\n",
        "\n",
        "df.columns"
      ]
    },
    {
      "cell_type": "code",
      "execution_count": null,
      "id": "bd1b004f-f73b-42e0-a492-ae6c1f08ddec",
      "metadata": {
        "id": "bd1b004f-f73b-42e0-a492-ae6c1f08ddec",
        "outputId": "7f658848-f630-4d72-9f4d-86a56dce6531"
      },
      "outputs": [
        {
          "data": {
            "text/plain": [
              "Index(['Index', 'User Id', 'First Name', 'Last Name', 'Gender', 'Job Title',\n",
              "       'Salary'],\n",
              "      dtype='object')"
            ]
          },
          "execution_count": 72,
          "metadata": {},
          "output_type": "execute_result"
        }
      ],
      "source": [
        "# b.\n",
        "\n",
        "df = df.dropna(axis =1)\n",
        "\n",
        "df.columns"
      ]
    },
    {
      "cell_type": "code",
      "execution_count": null,
      "id": "39dc8a89-66a0-4172-9a3d-e756f92239f6",
      "metadata": {
        "id": "39dc8a89-66a0-4172-9a3d-e756f92239f6",
        "outputId": "2a1c0281-85f8-415e-c8a3-18bd0c1adc71"
      },
      "outputs": [
        {
          "name": "stdout",
          "output_type": "stream",
          "text": [
            "     Index          User Id First Name Last Name  Gender  \\\n",
            "0        1  8717bbf45cCDbEe     Shelia   Mahoney    Male   \n",
            "1        2  3d5AD30A4cD38ed         Jo    Rivers  Female   \n",
            "2        3  810Ce0F276Badec     Sheryl    Lowery  Female   \n",
            "3        4  BF2a889C00f0cE1    Whitney    Hooper    Male   \n",
            "4        5  9afFEafAe1CBBB9    Lindsey      Rice  Female   \n",
            "..     ...              ...        ...       ...     ...   \n",
            "995    996  fedF4c7Fd9e7cFa       Kurt    Bryant  Female   \n",
            "996    997  ECddaFEDdEc4FAB      Donna     Barry  Female   \n",
            "997    998  2adde51d8B8979E      Cathy  Mckinney  Female   \n",
            "998    999  Fb2FE369D1E171A   Jermaine    Phelps    Male   \n",
            "999   1000  8b756f6231DDC6e        Lee      Tran  Female   \n",
            "\n",
            "                           Job Title  Salary  \n",
            "0                  Probation officer   90000  \n",
            "1                             Dancer   80000  \n",
            "2                               Copy   50000  \n",
            "3           Counselling psychologist   65000  \n",
            "4                Biomedical engineer  100000  \n",
            "..                               ...     ...  \n",
            "995                Personnel officer   90000  \n",
            "996          Education administrator   50000  \n",
            "997  Commercial/residential surveyor   60000  \n",
            "998                 Ambulance person  100000  \n",
            "999       Nurse, learning disability   90000  \n",
            "\n",
            "[1000 rows x 7 columns]\n"
          ]
        }
      ],
      "source": [
        "# c.\n",
        "\n",
        "print(df)"
      ]
    },
    {
      "cell_type": "code",
      "execution_count": null,
      "id": "8966ee6a-cdfa-4c20-90bf-2cd619fa5684",
      "metadata": {
        "id": "8966ee6a-cdfa-4c20-90bf-2cd619fa5684",
        "outputId": "e1353472-035b-486f-85a1-1d94736ccfd9"
      },
      "outputs": [
        {
          "name": "stdout",
          "output_type": "stream",
          "text": [
            "<class 'pandas.core.frame.DataFrame'>\n",
            "RangeIndex: 1000 entries, 0 to 999\n",
            "Data columns (total 7 columns):\n",
            " #   Column      Non-Null Count  Dtype \n",
            "---  ------      --------------  ----- \n",
            " 0   Index       1000 non-null   int64 \n",
            " 1   User Id     1000 non-null   object\n",
            " 2   First Name  1000 non-null   object\n",
            " 3   Last Name   1000 non-null   object\n",
            " 4   Gender      1000 non-null   object\n",
            " 5   Job Title   1000 non-null   object\n",
            " 6   Salary      1000 non-null   int64 \n",
            "dtypes: int64(2), object(5)\n",
            "memory usage: 54.8+ KB\n"
          ]
        }
      ],
      "source": [
        "df.info()"
      ]
    },
    {
      "cell_type": "markdown",
      "id": "eec4aea9-8944-43a7-9f1f-f3d68c7987d9",
      "metadata": {
        "id": "eec4aea9-8944-43a7-9f1f-f3d68c7987d9"
      },
      "source": [
        "Q13. Create two NumPy arrays, x and y, each containing 100 random float values between 0 and 1. Perform the\n",
        "following tasks using Matplotlib and NumPy:\n",
        "\n",
        "a) Create a scatter \u0018lot using x and y, setting the color of the \u0018oints to red and the marker style to 'o'.\n",
        "\n",
        "b) Add a horizontal line at y = 0.5 using a dashed line style and label it as 'y = 0.5'.\n",
        "\n",
        "c) Add a vertical line at x = 0.5 using a dotted line style and label it as 'x = 0.5'.\n",
        "\n",
        "d) Label the x-axis as 'X-axis' and the y-axis as 'Y-axis'.\n",
        "\n",
        "e) Set the title of the \u0018lot as 'Advanced Scatter Plot of Random Values'.\n",
        "\n",
        "f) Dis\u0018lay a legend for the scatter \u0018lot, the horizontal line, and the vertical line"
      ]
    },
    {
      "cell_type": "code",
      "execution_count": null,
      "id": "1eb222a0-3eb7-4115-b908-d520011e3503",
      "metadata": {
        "id": "1eb222a0-3eb7-4115-b908-d520011e3503",
        "outputId": "854ad099-6a50-4434-d635-b7b1886fd176"
      },
      "outputs": [
        {
          "data": {
            "text/plain": [
              "array([0.33359265, 0.95558929, 0.93650752, 0.58150159, 0.75914761,\n",
              "       0.53343791, 0.38108139, 0.06897035, 0.43438885, 0.02373494,\n",
              "       0.58199536, 0.8490045 , 0.12723005, 0.82736359, 0.47267466,\n",
              "       0.76764112, 0.40225712, 0.24220282, 0.98535764, 0.09439488,\n",
              "       0.31127157, 0.1145813 , 0.18784139, 0.26256682, 0.05507334,\n",
              "       0.93601867, 0.27750178, 0.71105735, 0.87439376, 0.49992163,\n",
              "       0.03872419, 0.79124994, 0.19065309, 0.09625506, 0.38175862,\n",
              "       0.16169703, 0.94732788, 0.91268476, 0.28271542, 0.31154355,\n",
              "       0.77448043, 0.55491728, 0.38663363, 0.88034953, 0.82220438,\n",
              "       0.70703259, 0.32670706, 0.18906366, 0.07770332, 0.63809644,\n",
              "       0.24857672, 0.86044873, 0.96156306, 0.60143915, 0.15423999,\n",
              "       0.83712883, 0.21298595, 0.10485506, 0.2928883 , 0.24508833,\n",
              "       0.00935162, 0.97433212, 0.75712483, 0.83503398, 0.19488272,\n",
              "       0.98466435, 0.75907143, 0.6939623 , 0.86594627, 0.51321995,\n",
              "       0.693146  , 0.28086795, 0.84995215, 0.15219499, 0.76648491,\n",
              "       0.68843863, 0.9227684 , 0.10280235, 0.26217837, 0.77876638,\n",
              "       0.06621235, 0.53492608, 0.16791996, 0.70032261, 0.98425843,\n",
              "       0.42212263, 0.7940799 , 0.3637026 , 0.97356042, 0.38244929,\n",
              "       0.81472816, 0.17026206, 0.84565721, 0.34593647, 0.66981577,\n",
              "       0.87540161, 0.67875582, 0.59725423, 0.17489747, 0.94849259])"
            ]
          },
          "execution_count": 84,
          "metadata": {},
          "output_type": "execute_result"
        }
      ],
      "source": [
        "x = np.random.uniform(0,1,100)\n",
        "\n",
        "x"
      ]
    },
    {
      "cell_type": "code",
      "execution_count": null,
      "id": "319cea5f-d58f-47e4-acf2-52bbb37efd22",
      "metadata": {
        "id": "319cea5f-d58f-47e4-acf2-52bbb37efd22",
        "outputId": "9e65d5c6-4ca5-48c1-aabf-0966d148e19b"
      },
      "outputs": [
        {
          "data": {
            "text/plain": [
              "array([6.37977178e-01, 4.37181424e-01, 4.43412905e-01, 9.17052317e-01,\n",
              "       9.32477025e-02, 9.53668471e-01, 9.09186322e-01, 5.44105328e-02,\n",
              "       4.19616812e-01, 2.64547596e-02, 3.64130185e-01, 1.17268512e-01,\n",
              "       7.21852309e-01, 7.30615983e-01, 5.97130184e-01, 6.00765916e-01,\n",
              "       4.73705480e-01, 7.16915887e-01, 5.94301527e-01, 7.36315856e-01,\n",
              "       6.11950734e-01, 1.21385466e-01, 6.80452383e-01, 8.90257844e-01,\n",
              "       4.13185339e-01, 2.81901045e-01, 3.13409568e-01, 2.22992199e-01,\n",
              "       2.23279793e-01, 6.27855412e-01, 9.24123163e-01, 8.07764974e-01,\n",
              "       8.45068524e-01, 3.54936650e-01, 3.04700292e-01, 4.78734295e-01,\n",
              "       7.47685871e-01, 9.25806964e-01, 9.95601724e-01, 3.12555113e-01,\n",
              "       5.86028470e-01, 8.69019651e-01, 5.63653114e-01, 3.08143416e-01,\n",
              "       6.17691714e-01, 2.21995961e-01, 5.61712330e-02, 6.24314300e-01,\n",
              "       8.22746923e-01, 6.49452277e-01, 5.80593520e-01, 2.38567056e-01,\n",
              "       9.34447785e-01, 6.21301768e-01, 3.24767591e-01, 7.79586973e-01,\n",
              "       5.20013338e-01, 6.19976069e-01, 2.89903324e-01, 6.84403535e-01,\n",
              "       2.15658629e-01, 4.84756082e-01, 5.61265574e-01, 5.20086716e-01,\n",
              "       1.25066922e-01, 6.64642237e-01, 6.33918885e-01, 6.15130389e-01,\n",
              "       4.92258728e-01, 3.67002087e-04, 5.14027295e-01, 7.11210109e-01,\n",
              "       4.49465463e-01, 5.33135695e-01, 6.39590557e-01, 3.67740605e-01,\n",
              "       8.38072615e-01, 4.24931156e-01, 5.42879413e-01, 6.42800477e-01,\n",
              "       9.37416052e-01, 6.08326459e-02, 3.62484554e-01, 2.30037538e-01,\n",
              "       9.18501205e-01, 9.91438801e-01, 4.69838337e-01, 8.94670939e-01,\n",
              "       9.03904404e-01, 4.17927429e-01, 9.06781550e-01, 7.61346288e-01,\n",
              "       6.10612397e-01, 6.66257571e-01, 5.60981941e-01, 7.19973931e-01,\n",
              "       3.66073332e-02, 3.64905847e-01, 3.47803566e-01, 2.00886554e-01])"
            ]
          },
          "execution_count": 89,
          "metadata": {},
          "output_type": "execute_result"
        }
      ],
      "source": [
        "y = np.random.uniform(0,1,100)\n",
        "\n",
        "y"
      ]
    },
    {
      "cell_type": "code",
      "execution_count": null,
      "id": "753aa059-02c3-47c5-972f-8c8bb27b5dba",
      "metadata": {
        "id": "753aa059-02c3-47c5-972f-8c8bb27b5dba"
      },
      "outputs": [],
      "source": [
        "# import library\n",
        "\n",
        "import matplotlib.pyplot as plt\n"
      ]
    },
    {
      "cell_type": "code",
      "execution_count": null,
      "id": "226d9706-204f-4ebc-b935-1e86303cd953",
      "metadata": {
        "id": "226d9706-204f-4ebc-b935-1e86303cd953",
        "outputId": "d4feb6c6-cfd0-48d1-dc93-f1bb05790aa3"
      },
      "outputs": [
        {
          "data": {
            "text/plain": [
              "<matplotlib.collections.PathCollection at 0x7f2e206cc220>"
            ]
          },
          "execution_count": 90,
          "metadata": {},
          "output_type": "execute_result"
        },
        {
          "data": {
            "image/png": "[encoded data removed]",
            "text/plain": [
              "<Figure size 640x480 with 1 Axes>"
            ]
          },
          "metadata": {},
          "output_type": "display_data"
        }
      ],
      "source": [
        "# a. Create a scatter \u0018lot using x and y, setting the color of the \u0018oints to red and the marker style to 'o'.\n",
        "\n",
        "plt.scatter(x, y, color='red', marker='o')\n"
      ]
    },
    {
      "cell_type": "code",
      "execution_count": null,
      "id": "d747829d-064d-42b2-8399-23b0dca07d09",
      "metadata": {
        "id": "d747829d-064d-42b2-8399-23b0dca07d09",
        "outputId": "4e4cae42-42cf-4deb-af37-89233ca1f1ae"
      },
      "outputs": [
        {
          "data": {
            "text/plain": [
              "<matplotlib.lines.Line2D at 0x7f2e20530d00>"
            ]
          },
          "execution_count": 91,
          "metadata": {},
          "output_type": "execute_result"
        },
        {
          "data": {
            "image/png": "[encoded data removed]",
            "text/plain": [
              "<Figure size 640x480 with 1 Axes>"
            ]
          },
          "metadata": {},
          "output_type": "display_data"
        }
      ],
      "source": [
        "# b. Add a horizontal line at y = 0.5 using a dashed line style and label it as 'y = 0.5'.\n",
        "plt.axhline(y=0.5, color='blue', linestyle='--', label='y = 0.5')\n"
      ]
    },
    {
      "cell_type": "code",
      "execution_count": null,
      "id": "32d6e7d9-62fb-4511-b62b-99d26eb76164",
      "metadata": {
        "id": "32d6e7d9-62fb-4511-b62b-99d26eb76164",
        "outputId": "c83cec04-5fcb-47a3-be1b-bb1d3712c6b5"
      },
      "outputs": [
        {
          "data": {
            "text/plain": [
              "<matplotlib.lines.Line2D at 0x7f2e20577880>"
            ]
          },
          "execution_count": 92,
          "metadata": {},
          "output_type": "execute_result"
        },
        {
          "data": {
            "image/png": "[encoded data removed]",
            "text/plain": [
              "<Figure size 640x480 with 1 Axes>"
            ]
          },
          "metadata": {},
          "output_type": "display_data"
        }
      ],
      "source": [
        "# c. Add a vertical line at x = 0.5 using a dotted line style and label it as 'x = 0.5'.\n",
        "plt.axvline(x=0.5, color='green', linestyle=':', label='x = 0.5')\n"
      ]
    },
    {
      "cell_type": "code",
      "execution_count": null,
      "id": "0b190d31-827e-448e-8426-f9b453c392f4",
      "metadata": {
        "id": "0b190d31-827e-448e-8426-f9b453c392f4",
        "outputId": "597c7301-7a20-4792-e7ac-b4dac742f826"
      },
      "outputs": [
        {
          "data": {
            "text/plain": [
              "Text(0, 0.5, 'y-axis')"
            ]
          },
          "execution_count": 93,
          "metadata": {},
          "output_type": "execute_result"
        },
        {
          "data": {
            "image/png": "[encoded data removed]",
            "text/plain": [
              "<Figure size 640x480 with 1 Axes>"
            ]
          },
          "metadata": {},
          "output_type": "display_data"
        }
      ],
      "source": [
        "# d. Label the x-axis as 'X-axis' and the y-axis as 'Y-axis'.\n",
        "\n",
        "plt.xlabel('x-axis')\n",
        "plt.ylabel('y-axis')"
      ]
    },
    {
      "cell_type": "code",
      "execution_count": null,
      "id": "a08d1d7b-6b24-4c9c-a129-286ebb65624a",
      "metadata": {
        "id": "a08d1d7b-6b24-4c9c-a129-286ebb65624a",
        "outputId": "419ce53b-a4e7-4b04-f06f-ae537661dfde"
      },
      "outputs": [
        {
          "data": {
            "text/plain": [
              "Text(0.5, 1.0, 'Advanced Scatter Plot of Rnadom Values')"
            ]
          },
          "execution_count": 94,
          "metadata": {},
          "output_type": "execute_result"
        },
        {
          "data": {
            "image/png": "[encoded data removed]",
            "text/plain": [
              "<Figure size 640x480 with 1 Axes>"
            ]
          },
          "metadata": {},
          "output_type": "display_data"
        }
      ],
      "source": [
        "# e. Set the title of the \u0018lot as 'Advanced Scatter Plot of Random Values'.\n",
        "\n",
        "plt.title('Advanced Scatter Plot of Rnadom Values')"
      ]
    },
    {
      "cell_type": "markdown",
      "id": "4e61d3cd-7337-46ed-bb5f-2ca0fb5c25a2",
      "metadata": {
        "tags": [],
        "id": "4e61d3cd-7337-46ed-bb5f-2ca0fb5c25a2"
      },
      "source": [
        "# combining all together to output a plot"
      ]
    },
    {
      "cell_type": "code",
      "execution_count": null,
      "id": "d6320551-61b5-4e6a-9bfe-915fa720bd49",
      "metadata": {
        "id": "d6320551-61b5-4e6a-9bfe-915fa720bd49",
        "outputId": "1756c4a3-aebf-4b5e-9857-8ce482b18217"
      },
      "outputs": [
        {
          "data": {
            "image/png": "[encoded data removed]",
            "text/plain": [
              "<Figure size 640x480 with 1 Axes>"
            ]
          },
          "metadata": {},
          "output_type": "display_data"
        }
      ],
      "source": [
        "# f. Dis\u0018lay a legend for the scatter \u0018lot, the horizontal line, and the vertical line\n",
        "\n",
        "plt.scatter(x, y, color='red', marker='o')\n",
        "plt.axhline(y=0.5, color='blue', linestyle='--', label='y = 0.5')\n",
        "plt.axvline(x=0.5, color='green', linestyle=':', label='x = 0.5')\n",
        "plt.xlabel('x-axis')\n",
        "plt.ylabel('y-axis')\n",
        "plt.title('Advanced Scatter Plot of Rnadom Values')\n",
        "# Add legend\n",
        "plt.legend()\n",
        "plt.show()"
      ]
    },
    {
      "cell_type": "markdown",
      "id": "c43e92ab-a47c-4683-b56e-eb314a421eac",
      "metadata": {
        "id": "c43e92ab-a47c-4683-b56e-eb314a421eac"
      },
      "source": [
        "Q14. Create a time-series dataset in a Pandas DataFrame with columns: 'Date', 'Temperature', 'Humidity' and\n",
        "Perform the following tasks using Matplotlib:\n",
        "\n",
        "a) Plot the 'Tem\u0018erature' and 'Humidity' on the same \u0018lot with different y-axes (left y-axis for 'Tem\u0018erature' and\n",
        "right y-axis for 'Humidity').\n",
        "\n",
        "b) Label the x-axis as 'Date'.\n",
        "\n",
        "c) Set the title of the \u0018lot as 'Tem\u0018erature and Humidity Over Time'."
      ]
    },
    {
      "cell_type": "code",
      "execution_count": null,
      "id": "5e877608-c970-45fb-a0ee-354eadcf57c0",
      "metadata": {
        "id": "5e877608-c970-45fb-a0ee-354eadcf57c0",
        "outputId": "4665eac9-b41a-4747-8169-b7f964f5f900"
      },
      "outputs": [
        {
          "data": {
            "text/html": [
              "<div>\n",
              "<style scoped>\n",
              "    .dataframe tbody tr th:only-of-type {\n",
              "        vertical-align: middle;\n",
              "    }\n",
              "\n",
              "    .dataframe tbody tr th {\n",
              "        vertical-align: top;\n",
              "    }\n",
              "\n",
              "    .dataframe thead th {\n",
              "        text-align: right;\n",
              "    }\n",
              "</style>\n",
              "<table border=\"1\" class=\"dataframe\">\n",
              "  <thead>\n",
              "    <tr style=\"text-align: right;\">\n",
              "      <th></th>\n",
              "      <th>Date</th>\n",
              "      <th>Temperature</th>\n",
              "      <th>Humidity</th>\n",
              "    </tr>\n",
              "  </thead>\n",
              "  <tbody>\n",
              "    <tr>\n",
              "      <th>0</th>\n",
              "      <td>2024-01-01</td>\n",
              "      <td>35</td>\n",
              "      <td>192</td>\n",
              "    </tr>\n",
              "    <tr>\n",
              "      <th>1</th>\n",
              "      <td>2024-01-02</td>\n",
              "      <td>30</td>\n",
              "      <td>104</td>\n",
              "    </tr>\n",
              "  </tbody>\n",
              "</table>\n",
              "</div>"
            ],
            "text/plain": [
              "        Date  Temperature  Humidity\n",
              "0 2024-01-01           35       192\n",
              "1 2024-01-02           30       104"
            ]
          },
          "execution_count": 103,
          "metadata": {},
          "output_type": "execute_result"
        }
      ],
      "source": [
        "data = {\n",
        "    'Date': pd.date_range(start='2024-01-01', periods=100),\n",
        "    'Temperature': pd.Series(np.random.randint(20, 48, 100)),\n",
        "    'Humidity': pd.Series(np.random.randint(100, 200, 100))\n",
        "}\n",
        "df = pd.DataFrame(data)\n",
        "\n",
        "df.head(2)"
      ]
    },
    {
      "cell_type": "code",
      "execution_count": null,
      "id": "cf7c397b-129c-4361-9322-1b7886447ab9",
      "metadata": {
        "id": "cf7c397b-129c-4361-9322-1b7886447ab9",
        "outputId": "93d78e65-1ed5-451a-f7d3-79f8594d6263"
      },
      "outputs": [
        {
          "data": {
            "image/png": "[encoded data removed]",
            "text/plain": [
              "<Figure size 640x480 with 2 Axes>"
            ]
          },
          "metadata": {},
          "output_type": "display_data"
        }
      ],
      "source": [
        "# a.\n",
        "\n",
        "fig, ax1 = plt.subplots()\n",
        "color = 'tab:red'\n",
        "ax1.set_ylabel('Temperature')\n",
        "ax1.plot(df['Date'], df['Temperature'], color = color)\n",
        "\n",
        "ax2 = ax1.twinx()\n",
        "color = 'tab:blue'\n",
        "ax2.set_ylabel('Humidity')\n",
        "ax2.plot(df['Date'], df['Humidity'], color = color)\n",
        "\n",
        "# b.\n",
        "plt.xlabel('Date')\n",
        "\n",
        "# c.\n",
        "plt.title('Temperature and Humidity Over Time')\n",
        "\n",
        "# Show the plot\n",
        "plt.show()"
      ]
    },
    {
      "cell_type": "markdown",
      "id": "f82554b0-c7a2-4282-8019-e67931fbc16d",
      "metadata": {
        "id": "f82554b0-c7a2-4282-8019-e67931fbc16d"
      },
      "source": [
        "Q15. Create a NumPy array data containing 1000 samples from a normal distribution. Perform the following\n",
        "tasks using Matplotlib:\n",
        "\n",
        "a) Plot a histogram of the data with 30 bins.\n",
        "\n",
        "b) Overlay a line \u0018lot re\u0018resenting the normal distribution's \u0018robability density function (PDF).\n",
        "\n",
        "c) Label the x-axis as 'Value' and the y-axis as 'Frequency/Probability'.\n",
        "\n",
        "d) Set the title of the \u0018lot as 'Histogram with PDF Overlay"
      ]
    },
    {
      "cell_type": "code",
      "execution_count": null,
      "id": "cfbf4b07-06af-43c4-98fd-4c8ea4d9f156",
      "metadata": {
        "id": "cfbf4b07-06af-43c4-98fd-4c8ea4d9f156"
      },
      "outputs": [],
      "source": [
        "# importing lib\n",
        "from scipy.stats import norm\n"
      ]
    },
    {
      "cell_type": "code",
      "execution_count": null,
      "id": "60f23611-d4ef-4fcd-bfa0-06e398709fbd",
      "metadata": {
        "id": "60f23611-d4ef-4fcd-bfa0-06e398709fbd",
        "outputId": "21e11fde-7710-4821-a61e-0dd3a109b522"
      },
      "outputs": [
        {
          "data": {
            "text/plain": [
              "array([-0.12669059,  0.08489901,  0.75696553, -0.85880794,  0.8872681 ,\n",
              "        0.15828833, -2.23012907, -1.134406  , -0.46284694, -1.22444558])"
            ]
          },
          "execution_count": 111,
          "metadata": {},
          "output_type": "execute_result"
        }
      ],
      "source": [
        "data = np.random.normal(loc=0, scale=1, size=1000)\n",
        "\n",
        "data[:10]"
      ]
    },
    {
      "cell_type": "code",
      "execution_count": null,
      "id": "f22a2d9e-fc4c-4746-a61a-26cdf8fe3194",
      "metadata": {
        "id": "f22a2d9e-fc4c-4746-a61a-26cdf8fe3194",
        "outputId": "cd8df000-7c90-4aab-e7ba-d25c39db5be7"
      },
      "outputs": [
        {
          "data": {
            "image/png": "[encoded data removed]",
            "text/plain": [
              "<Figure size 640x480 with 1 Axes>"
            ]
          },
          "metadata": {},
          "output_type": "display_data"
        }
      ],
      "source": [
        "# a.\n",
        "plt.hist(data, bins=30, density=True, alpha=0.6, color='g', edgecolor='black', linewidth=1.2, label='Histogram')\n",
        "\n",
        "# b.\n",
        "xmin, xmax = plt.xlim()\n",
        "x = np.linspace(xmin, xmax, 100)\n",
        "p = norm.pdf(x, np.mean(data), np.std(data))\n",
        "plt.plot(x, p, 'k', linewidth=2, label='PDF')\n",
        "\n",
        "# c.\n",
        "plt.xlabel('Value')\n",
        "plt.ylabel('Frequency/Probability')\n",
        "\n",
        "# d.\n",
        "plt.title('Histogram with PDF Overlay')\n",
        "\n",
        "plt.legend()\n",
        "plt.show()"
      ]
    },
    {
      "cell_type": "markdown",
      "id": "e4286ec0-0a6b-4a02-a096-21057472b7a9",
      "metadata": {
        "id": "e4286ec0-0a6b-4a02-a096-21057472b7a9"
      },
      "source": [
        "Q16. Set the title of the plot as 'Histogram with PDF Overlay'."
      ]
    },
    {
      "cell_type": "raw",
      "id": "30cc87f6-830d-43e5-8b5e-8189689ed489",
      "metadata": {
        "id": "30cc87f6-830d-43e5-8b5e-8189689ed489"
      },
      "source": [
        "same as Answer 15."
      ]
    },
    {
      "cell_type": "markdown",
      "id": "24c9346c-666f-48d4-a636-f971a943290c",
      "metadata": {
        "id": "24c9346c-666f-48d4-a636-f971a943290c"
      },
      "source": [
        "Q17. Create a Seaborn scatter plot of two random arrays, color points based on their position relative to the\n",
        "origin (quadrants), add a legend, label the axes, and set the title as 'Quadrant-wise Scatter Plot'."
      ]
    },
    {
      "cell_type": "code",
      "execution_count": null,
      "id": "552c9261-e366-4c77-b381-2992c95f5bf8",
      "metadata": {
        "id": "552c9261-e366-4c77-b381-2992c95f5bf8"
      },
      "outputs": [],
      "source": [
        "# importing lib\n",
        "import seaborn as sns"
      ]
    },
    {
      "cell_type": "code",
      "execution_count": null,
      "id": "fae0404d-d591-4b3d-9471-df2cd07a6eea",
      "metadata": {
        "id": "fae0404d-d591-4b3d-9471-df2cd07a6eea",
        "outputId": "bfdc51c2-686f-41cd-e455-6dac006e42a6"
      },
      "outputs": [
        {
          "data": {
            "text/plain": [
              "array([ 0.29499833,  8.38508091,  1.50071667, -5.58135794, -9.33149677,\n",
              "        3.00496729,  6.150008  , -2.3206582 , -5.34223982, -2.51687388])"
            ]
          },
          "execution_count": 116,
          "metadata": {},
          "output_type": "execute_result"
        }
      ],
      "source": [
        "x = np.random.uniform(-10, 10, 100)\n",
        "x[:10]"
      ]
    },
    {
      "cell_type": "code",
      "execution_count": null,
      "id": "efba54a8-95d9-4f2a-b7de-bd04f1484e8b",
      "metadata": {
        "id": "efba54a8-95d9-4f2a-b7de-bd04f1484e8b",
        "outputId": "4c26bb75-fe9d-4d37-c507-b9b6d650f82d"
      },
      "outputs": [
        {
          "data": {
            "text/plain": [
              "array([ 3.45114276, -2.35820194, -2.28456278, -4.25147569,  6.65247947,\n",
              "        6.84413308, -8.71547377,  1.83742448, -4.11058979, -0.68263811])"
            ]
          },
          "execution_count": 117,
          "metadata": {},
          "output_type": "execute_result"
        }
      ],
      "source": [
        "y = np.random.uniform(-10, 10, 100)\n",
        "y[:10]"
      ]
    },
    {
      "cell_type": "code",
      "execution_count": null,
      "id": "092f06fd-3b60-4e8d-8a6b-7ae43d88361e",
      "metadata": {
        "id": "092f06fd-3b60-4e8d-8a6b-7ae43d88361e"
      },
      "outputs": [],
      "source": [
        "quadrant = np.zeros_like(x)\n",
        "quadrant[(x >= 0) & (y >= 0)] = 1  # Quadrant 1\n",
        "quadrant[(x < 0) & (y >= 0)] = 2   # Quadrant 2\n",
        "quadrant[(x < 0) & (y < 0)] = 3    # Quadrant 3\n",
        "quadrant[(x >= 0) & (y < 0)] = 4   # Quadrant 4"
      ]
    },
    {
      "cell_type": "code",
      "execution_count": null,
      "id": "91ae11d0-abae-4af2-86b6-48f6a8d099e0",
      "metadata": {
        "id": "91ae11d0-abae-4af2-86b6-48f6a8d099e0",
        "outputId": "0f3e5e09-7387-4f34-b800-dc4d0a1d5d23"
      },
      "outputs": [
        {
          "data": {
            "image/png": "[encoded data removed]",
            "text/plain": [
              "<Figure size 640x480 with 1 Axes>"
            ]
          },
          "metadata": {},
          "output_type": "display_data"
        }
      ],
      "source": [
        "sns.scatterplot(x=x, y=y, hue=quadrant, palette='Set1')\n",
        "\n",
        "# legend to indicate the quadrants\n",
        "plt.legend(title='Quadrant')\n",
        "\n",
        "plt.xlabel('X-axis')\n",
        "plt.ylabel('Y-axis')\n",
        "\n",
        "plt.title('Quadrant-wise Scatter Plot')\n",
        "plt.show()"
      ]
    },
    {
      "cell_type": "markdown",
      "id": "8bedde76-6025-483c-83b3-73fd34fd151e",
      "metadata": {
        "id": "8bedde76-6025-483c-83b3-73fd34fd151e"
      },
      "source": [
        "Q18. With Bokeh, plot a line chart of a sine wave function, add \u0015rid lines, label the axes, and set the title as 'Sine\n",
        "Wave Function."
      ]
    },
    {
      "cell_type": "code",
      "execution_count": null,
      "id": "656bf965-706b-4230-97eb-6e6e58c9aee1",
      "metadata": {
        "id": "656bf965-706b-4230-97eb-6e6e58c9aee1"
      },
      "outputs": [],
      "source": [
        "# importing lib\n",
        "\n",
        "from bokeh.plotting import figure, output_notebook, show\n",
        "from bokeh.models import Title"
      ]
    },
    {
      "cell_type": "code",
      "execution_count": null,
      "id": "06d6b19a-b509-40a9-9422-7687962785cc",
      "metadata": {
        "id": "06d6b19a-b509-40a9-9422-7687962785cc",
        "outputId": "5327c9f6-28ad-4895-8da7-79de79e5f5dc"
      },
      "outputs": [
        {
          "name": "stdout",
          "output_type": "stream",
          "text": [
            "x:  [0.         0.06346652 0.12693304 0.19039955 0.25386607 0.31733259\n",
            " 0.38079911 0.44426563 0.50773215 0.57119866]\n",
            "y:  [0.         0.06342392 0.12659245 0.18925124 0.25114799 0.31203345\n",
            " 0.37166246 0.42979491 0.48619674 0.54064082]\n"
          ]
        }
      ],
      "source": [
        "x = np.linspace(0, 2*np.pi, 100)\n",
        "y = np.sin(x)\n",
        "\n",
        "print('x: ', x[:10])\n",
        "print('y: ', y[:10])"
      ]
    },
    {
      "cell_type": "code",
      "execution_count": null,
      "id": "40945c5c-db29-4f4c-adaf-e6a9ae5acbe7",
      "metadata": {
        "id": "40945c5c-db29-4f4c-adaf-e6a9ae5acbe7",
        "outputId": "d4ac6d34-fcc6-4d83-96ad-26db3ceb7398"
      },
      "outputs": [
        {
          "data": {
            "text/html": [
              "<style>\n",
              "        .bk-notebook-logo {\n",
              "            display: block;\n",
              "            width: 20px;\n",
              "            height: 20px;\n",
              "            background-image: url(data:image/png;base64,iVBORw0KGgoAAAANSUhEUgAAABQAAAAUCAYAAACNiR0NAAAABHNCSVQICAgIfAhkiAAAAAlwSFlzAAALEgAACxIB0t1+/AAAABx0RVh0U29mdHdhcmUAQWRvYmUgRmlyZXdvcmtzIENTNui8sowAAAOkSURBVDiNjZRtaJVlGMd/1/08zzln5zjP1LWcU9N0NkN8m2CYjpgQYQXqSs0I84OLIC0hkEKoPtiH3gmKoiJDU7QpLgoLjLIQCpEsNJ1vqUOdO7ppbuec5+V+rj4ctwzd8IIbbi6u+8f1539dt3A78eXC7QizUF7gyV1fD1Yqg4JWz84yffhm0qkFqBogB9rM8tZdtwVsPUhWhGcFJngGeWrPzHm5oaMmkfEg1usvLFyc8jLRqDOMru7AyC8saQr7GG7f5fvDeH7Ej8CM66nIF+8yngt6HWaKh7k49Soy9nXurCi1o3qUbS3zWfrYeQDTB/Qj6kX6Ybhw4B+bOYoLKCC9H3Nu/leUTZ1JdRWkkn2ldcCamzrcf47KKXdAJllSlxAOkRgyHsGC/zRday5Qld9DyoM4/q/rUoy/CXh3jzOu3bHUVZeU+DEn8FInkPBFlu3+nW3Nw0mk6vCDiWg8CeJaxEwuHS3+z5RgY+YBR6V1Z1nxSOfoaPa4LASWxxdNp+VWTk7+4vzaou8v8PN+xo+KY2xsw6une2frhw05CTYOmQvsEhjhWjn0bmXPjpE1+kplmmkP3suftwTubK9Vq22qKmrBhpY4jvd5afdRA3wGjFAgcnTK2s4hY0/GPNIb0nErGMCRxWOOX64Z8RAC4oCXdklmEvcL8o0BfkNK4lUg9HTl+oPlQxdNo3Mg4Nv175e/1LDGzZen30MEjRUtmXSfiTVu1kK8W4txyV6BMKlbgk3lMwYCiusNy9fVfvvwMxv8Ynl6vxoByANLTWplvuj/nF9m2+PDtt1eiHPBr1oIfhCChQMBw6Aw0UulqTKZdfVvfG7VcfIqLG9bcldL/+pdWTLxLUy8Qq38heUIjh4XlzZxzQm19lLFlr8vdQ97rjZVOLf8nclzckbcD4wxXMidpX30sFd37Fv/GtwwhzhxGVAprjbg0gCAEeIgwCZyTV2Z1REEW8O4py0wsjeloKoMr6iCY6dP92H6Vw/oTyICIthibxjm/DfN9lVz8IqtqKYLUXfoKVMVQVVJOElGjrnnUt9T9wbgp8AyYKaGlqingHZU/uG2NTZSVqwHQTWkx9hxjkpWDaCg6Ckj5qebgBVbT3V3NNXMSiWSDdGV3hrtzla7J+duwPOToIg42ChPQOQjspnSlp1V+Gjdged7+8UN5CRAV7a5EdFNwCjEaBR27b3W890TE7g24NAP/mMDXRWrGoFPQI9ls/MWO2dWFAar/xcOIImbbpA3zgAAAABJRU5ErkJggg==);\n",
              "        }\n",
              "    </style>\n",
              "    <div>\n",
              "        <a href=\"https://bokeh.org\" target=\"_blank\" class=\"bk-notebook-logo\"></a>\n",
              "        <span id=\"p2065\">Loading BokehJS ...</span>\n",
              "    </div>\n"
            ]
          },
          "metadata": {},
          "output_type": "display_data"
        },
        {
          "data": {
            "application/javascript": [
              "(function(root) {\n",
              "  function now() {\n",
              "    return new Date();\n",
              "  }\n",
              "\n",
              "  const force = true;\n",
              "\n",
              "  if (typeof root._bokeh_onload_callbacks === \"undefined\" || force === true) {\n",
              "    root._bokeh_onload_callbacks = [];\n",
              "    root._bokeh_is_loading = undefined;\n",
              "  }\n",
              "\n",
              "const JS_MIME_TYPE = 'application/javascript';\n",
              "  const HTML_MIME_TYPE = 'text/html';\n",
              "  const EXEC_MIME_TYPE = 'application/vnd.bokehjs_exec.v0+json';\n",
              "  const CLASS_NAME = 'output_bokeh rendered_html';\n",
              "\n",
              "  /**\n",
              "   * Render data to the DOM node\n",
              "   */\n",
              "  function render(props, node) {\n",
              "    const script = document.createElement(\"script\");\n",
              "    node.appendChild(script);\n",
              "  }\n",
              "\n",
              "  /**\n",
              "   * Handle when an output is cleared or removed\n",
              "   */\n",
              "  function handleClearOutput(event, handle) {\n",
              "    const cell = handle.cell;\n",
              "\n",
              "    const id = cell.output_area._bokeh_element_id;\n",
              "    const server_id = cell.output_area._bokeh_server_id;\n",
              "    // Clean up Bokeh references\n",
              "    if (id != null && id in Bokeh.index) {\n",
              "      Bokeh.index[id].model.document.clear();\n",
              "      delete Bokeh.index[id];\n",
              "    }\n",
              "\n",
              "    if (server_id !== undefined) {\n",
              "      // Clean up Bokeh references\n",
              "      const cmd_clean = \"from bokeh.io.state import curstate; print(curstate().uuid_to_server['\" + server_id + \"'].get_sessions()[0].document.roots[0]._id)\";\n",
              "      cell.notebook.kernel.execute(cmd_clean, {\n",
              "        iopub: {\n",
              "          output: function(msg) {\n",
              "            const id = msg.content.text.trim();\n",
              "            if (id in Bokeh.index) {\n",
              "              Bokeh.index[id].model.document.clear();\n",
              "              delete Bokeh.index[id];\n",
              "            }\n",
              "          }\n",
              "        }\n",
              "      });\n",
              "      // Destroy server and session\n",
              "      const cmd_destroy = \"import bokeh.io.notebook as ion; ion.destroy_server('\" + server_id + \"')\";\n",
              "      cell.notebook.kernel.execute(cmd_destroy);\n",
              "    }\n",
              "  }\n",
              "\n",
              "  /**\n",
              "   * Handle when a new output is added\n",
              "   */\n",
              "  function handleAddOutput(event, handle) {\n",
              "    const output_area = handle.output_area;\n",
              "    const output = handle.output;\n",
              "\n",
              "    // limit handleAddOutput to display_data with EXEC_MIME_TYPE content only\n",
              "    if ((output.output_type != \"display_data\") || (!Object.prototype.hasOwnProperty.call(output.data, EXEC_MIME_TYPE))) {\n",
              "      return\n",
              "    }\n",
              "\n",
              "    const toinsert = output_area.element.find(\".\" + CLASS_NAME.split(' ')[0]);\n",
              "\n",
              "    if (output.metadata[EXEC_MIME_TYPE][\"id\"] !== undefined) {\n",
              "      toinsert[toinsert.length - 1].firstChild.textContent = output.data[JS_MIME_TYPE];\n",
              "      // store reference to embed id on output_area\n",
              "      output_area._bokeh_element_id = output.metadata[EXEC_MIME_TYPE][\"id\"];\n",
              "    }\n",
              "    if (output.metadata[EXEC_MIME_TYPE][\"server_id\"] !== undefined) {\n",
              "      const bk_div = document.createElement(\"div\");\n",
              "      bk_div.innerHTML = output.data[HTML_MIME_TYPE];\n",
              "      const script_attrs = bk_div.children[0].attributes;\n",
              "      for (let i = 0; i < script_attrs.length; i++) {\n",
              "        toinsert[toinsert.length - 1].firstChild.setAttribute(script_attrs[i].name, script_attrs[i].value);\n",
              "        toinsert[toinsert.length - 1].firstChild.textContent = bk_div.children[0].textContent\n",
              "      }\n",
              "      // store reference to server id on output_area\n",
              "      output_area._bokeh_server_id = output.metadata[EXEC_MIME_TYPE][\"server_id\"];\n",
              "    }\n",
              "  }\n",
              "\n",
              "  function register_renderer(events, OutputArea) {\n",
              "\n",
              "    function append_mime(data, metadata, element) {\n",
              "      // create a DOM node to render to\n",
              "      const toinsert = this.create_output_subarea(\n",
              "        metadata,\n",
              "        CLASS_NAME,\n",
              "        EXEC_MIME_TYPE\n",
              "      );\n",
              "      this.keyboard_manager.register_events(toinsert);\n",
              "      // Render to node\n",
              "      const props = {data: data, metadata: metadata[EXEC_MIME_TYPE]};\n",
              "      render(props, toinsert[toinsert.length - 1]);\n",
              "      element.append(toinsert);\n",
              "      return toinsert\n",
              "    }\n",
              "\n",
              "    /* Handle when an output is cleared or removed */\n",
              "    events.on('clear_output.CodeCell', handleClearOutput);\n",
              "    events.on('delete.Cell', handleClearOutput);\n",
              "\n",
              "    /* Handle when a new output is added */\n",
              "    events.on('output_added.OutputArea', handleAddOutput);\n",
              "\n",
              "    /**\n",
              "     * Register the mime type and append_mime function with output_area\n",
              "     */\n",
              "    OutputArea.prototype.register_mime_type(EXEC_MIME_TYPE, append_mime, {\n",
              "      /* Is output safe? */\n",
              "      safe: true,\n",
              "      /* Index of renderer in `output_area.display_order` */\n",
              "      index: 0\n",
              "    });\n",
              "  }\n",
              "\n",
              "  // register the mime type if in Jupyter Notebook environment and previously unregistered\n",
              "  if (root.Jupyter !== undefined) {\n",
              "    const events = require('base/js/events');\n",
              "    const OutputArea = require('notebook/js/outputarea').OutputArea;\n",
              "\n",
              "    if (OutputArea.prototype.mime_types().indexOf(EXEC_MIME_TYPE) == -1) {\n",
              "      register_renderer(events, OutputArea);\n",
              "    }\n",
              "  }\n",
              "  if (typeof (root._bokeh_timeout) === \"undefined\" || force === true) {\n",
              "    root._bokeh_timeout = Date.now() + 5000;\n",
              "    root._bokeh_failed_load = false;\n",
              "  }\n",
              "\n",
              "  const NB_LOAD_WARNING = {'data': {'text/html':\n",
              "     \"<div style='background-color: #fdd'>\\n\"+\n",
              "     \"<p>\\n\"+\n",
              "     \"BokehJS does not appear to have successfully loaded. If loading BokehJS from CDN, this \\n\"+\n",
              "     \"may be due to a slow or bad network connection. Possible fixes:\\n\"+\n",
              "     \"</p>\\n\"+\n",
              "     \"<ul>\\n\"+\n",
              "     \"<li>re-rerun `output_notebook()` to attempt to load from CDN again, or</li>\\n\"+\n",
              "     \"<li>use INLINE resources instead, as so:</li>\\n\"+\n",
              "     \"</ul>\\n\"+\n",
              "     \"<code>\\n\"+\n",
              "     \"from bokeh.resources import INLINE\\n\"+\n",
              "     \"output_notebook(resources=INLINE)\\n\"+\n",
              "     \"</code>\\n\"+\n",
              "     \"</div>\"}};\n",
              "\n",
              "  function display_loaded() {\n",
              "    const el = document.getElementById(\"p2065\");\n",
              "    if (el != null) {\n",
              "      el.textContent = \"BokehJS is loading...\";\n",
              "    }\n",
              "    if (root.Bokeh !== undefined) {\n",
              "      if (el != null) {\n",
              "        el.textContent = \"BokehJS \" + root.Bokeh.version + \" successfully loaded.\";\n",
              "      }\n",
              "    } else if (Date.now() < root._bokeh_timeout) {\n",
              "      setTimeout(display_loaded, 100)\n",
              "    }\n",
              "  }\n",
              "\n",
              "  function run_callbacks() {\n",
              "    try {\n",
              "      root._bokeh_onload_callbacks.forEach(function(callback) {\n",
              "        if (callback != null)\n",
              "          callback();\n",
              "      });\n",
              "    } finally {\n",
              "      delete root._bokeh_onload_callbacks\n",
              "    }\n",
              "    console.debug(\"Bokeh: all callbacks have finished\");\n",
              "  }\n",
              "\n",
              "  function load_libs(css_urls, js_urls, callback) {\n",
              "    if (css_urls == null) css_urls = [];\n",
              "    if (js_urls == null) js_urls = [];\n",
              "\n",
              "    root._bokeh_onload_callbacks.push(callback);\n",
              "    if (root._bokeh_is_loading > 0) {\n",
              "      console.debug(\"Bokeh: BokehJS is being loaded, scheduling callback at\", now());\n",
              "      return null;\n",
              "    }\n",
              "    if (js_urls == null || js_urls.length === 0) {\n",
              "      run_callbacks();\n",
              "      return null;\n",
              "    }\n",
              "    console.debug(\"Bokeh: BokehJS not loaded, scheduling load and callback at\", now());\n",
              "    root._bokeh_is_loading = css_urls.length + js_urls.length;\n",
              "\n",
              "    function on_load() {\n",
              "      root._bokeh_is_loading--;\n",
              "      if (root._bokeh_is_loading === 0) {\n",
              "        console.debug(\"Bokeh: all BokehJS libraries/stylesheets loaded\");\n",
              "        run_callbacks()\n",
              "      }\n",
              "    }\n",
              "\n",
              "    function on_error(url) {\n",
              "      console.error(\"failed to load \" + url);\n",
              "    }\n",
              "\n",
              "    for (let i = 0; i < css_urls.length; i++) {\n",
              "      const url = css_urls[i];\n",
              "      const element = document.createElement(\"link\");\n",
              "      element.onload = on_load;\n",
              "      element.onerror = on_error.bind(null, url);\n",
              "      element.rel = \"stylesheet\";\n",
              "      element.type = \"text/css\";\n",
              "      element.href = url;\n",
              "      console.debug(\"Bokeh: injecting link tag for BokehJS stylesheet: \", url);\n",
              "      document.body.appendChild(element);\n",
              "    }\n",
              "\n",
              "    for (let i = 0; i < js_urls.length; i++) {\n",
              "      const url = js_urls[i];\n",
              "      const element = document.createElement('script');\n",
              "      element.onload = on_load;\n",
              "      element.onerror = on_error.bind(null, url);\n",
              "      element.async = false;\n",
              "      element.src = url;\n",
              "      console.debug(\"Bokeh: injecting script tag for BokehJS library: \", url);\n",
              "      document.head.appendChild(element);\n",
              "    }\n",
              "  };\n",
              "\n",
              "  function inject_raw_css(css) {\n",
              "    const element = document.createElement(\"style\");\n",
              "    element.appendChild(document.createTextNode(css));\n",
              "    document.body.appendChild(element);\n",
              "  }\n",
              "\n",
              "  const js_urls = [\"https://cdn.bokeh.org/bokeh/release/bokeh-3.0.3.min.js\", \"https://cdn.bokeh.org/bokeh/release/bokeh-gl-3.0.3.min.js\", \"https://cdn.bokeh.org/bokeh/release/bokeh-widgets-3.0.3.min.js\", \"https://cdn.bokeh.org/bokeh/release/bokeh-tables-3.0.3.min.js\", \"https://cdn.bokeh.org/bokeh/release/bokeh-mathjax-3.0.3.min.js\"];\n",
              "  const css_urls = [];\n",
              "\n",
              "  const inline_js = [    function(Bokeh) {\n",
              "      Bokeh.set_log_level(\"info\");\n",
              "    },\n",
              "function(Bokeh) {\n",
              "    }\n",
              "  ];\n",
              "\n",
              "  function run_inline_js() {\n",
              "    if (root.Bokeh !== undefined || force === true) {\n",
              "          for (let i = 0; i < inline_js.length; i++) {\n",
              "      inline_js[i].call(root, root.Bokeh);\n",
              "    }\n",
              "if (force === true) {\n",
              "        display_loaded();\n",
              "      }} else if (Date.now() < root._bokeh_timeout) {\n",
              "      setTimeout(run_inline_js, 100);\n",
              "    } else if (!root._bokeh_failed_load) {\n",
              "      console.log(\"Bokeh: BokehJS failed to load within specified timeout.\");\n",
              "      root._bokeh_failed_load = true;\n",
              "    } else if (force !== true) {\n",
              "      const cell = $(document.getElementById(\"p2065\")).parents('.cell').data().cell;\n",
              "      cell.output_area.append_execute_result(NB_LOAD_WARNING)\n",
              "    }\n",
              "  }\n",
              "\n",
              "  if (root._bokeh_is_loading === 0) {\n",
              "    console.debug(\"Bokeh: BokehJS loaded, going straight to plotting\");\n",
              "    run_inline_js();\n",
              "  } else {\n",
              "    load_libs(css_urls, js_urls, function() {\n",
              "      console.debug(\"Bokeh: BokehJS plotting callback run at\", now());\n",
              "      run_inline_js();\n",
              "    });\n",
              "  }\n",
              "}(window));"
            ],
            "application/vnd.bokehjs_load.v0+json": "(function(root) {\n  function now() {\n    return new Date();\n  }\n\n  const force = true;\n\n  if (typeof root._bokeh_onload_callbacks === \"undefined\" || force === true) {\n    root._bokeh_onload_callbacks = [];\n    root._bokeh_is_loading = undefined;\n  }\n\n\n  if (typeof (root._bokeh_timeout) === \"undefined\" || force === true) {\n    root._bokeh_timeout = Date.now() + 5000;\n    root._bokeh_failed_load = false;\n  }\n\n  const NB_LOAD_WARNING = {'data': {'text/html':\n     \"<div style='background-color: #fdd'>\\n\"+\n     \"<p>\\n\"+\n     \"BokehJS does not appear to have successfully loaded. If loading BokehJS from CDN, this \\n\"+\n     \"may be due to a slow or bad network connection. Possible fixes:\\n\"+\n     \"</p>\\n\"+\n     \"<ul>\\n\"+\n     \"<li>re-rerun `output_notebook()` to attempt to load from CDN again, or</li>\\n\"+\n     \"<li>use INLINE resources instead, as so:</li>\\n\"+\n     \"</ul>\\n\"+\n     \"<code>\\n\"+\n     \"from bokeh.resources import INLINE\\n\"+\n     \"output_notebook(resources=INLINE)\\n\"+\n     \"</code>\\n\"+\n     \"</div>\"}};\n\n  function display_loaded() {\n    const el = document.getElementById(\"p2065\");\n    if (el != null) {\n      el.textContent = \"BokehJS is loading...\";\n    }\n    if (root.Bokeh !== undefined) {\n      if (el != null) {\n        el.textContent = \"BokehJS \" + root.Bokeh.version + \" successfully loaded.\";\n      }\n    } else if (Date.now() < root._bokeh_timeout) {\n      setTimeout(display_loaded, 100)\n    }\n  }\n\n  function run_callbacks() {\n    try {\n      root._bokeh_onload_callbacks.forEach(function(callback) {\n        if (callback != null)\n          callback();\n      });\n    } finally {\n      delete root._bokeh_onload_callbacks\n    }\n    console.debug(\"Bokeh: all callbacks have finished\");\n  }\n\n  function load_libs(css_urls, js_urls, callback) {\n    if (css_urls == null) css_urls = [];\n    if (js_urls == null) js_urls = [];\n\n    root._bokeh_onload_callbacks.push(callback);\n    if (root._bokeh_is_loading > 0) {\n      console.debug(\"Bokeh: BokehJS is being loaded, scheduling callback at\", now());\n      return null;\n    }\n    if (js_urls == null || js_urls.length === 0) {\n      run_callbacks();\n      return null;\n    }\n    console.debug(\"Bokeh: BokehJS not loaded, scheduling load and callback at\", now());\n    root._bokeh_is_loading = css_urls.length + js_urls.length;\n\n    function on_load() {\n      root._bokeh_is_loading--;\n      if (root._bokeh_is_loading === 0) {\n        console.debug(\"Bokeh: all BokehJS libraries/stylesheets loaded\");\n        run_callbacks()\n      }\n    }\n\n    function on_error(url) {\n      console.error(\"failed to load \" + url);\n    }\n\n    for (let i = 0; i < css_urls.length; i++) {\n      const url = css_urls[i];\n      const element = document.createElement(\"link\");\n      element.onload = on_load;\n      element.onerror = on_error.bind(null, url);\n      element.rel = \"stylesheet\";\n      element.type = \"text/css\";\n      element.href = url;\n      console.debug(\"Bokeh: injecting link tag for BokehJS stylesheet: \", url);\n      document.body.appendChild(element);\n    }\n\n    for (let i = 0; i < js_urls.length; i++) {\n      const url = js_urls[i];\n      const element = document.createElement('script');\n      element.onload = on_load;\n      element.onerror = on_error.bind(null, url);\n      element.async = false;\n      element.src = url;\n      console.debug(\"Bokeh: injecting script tag for BokehJS library: \", url);\n      document.head.appendChild(element);\n    }\n  };\n\n  function inject_raw_css(css) {\n    const element = document.createElement(\"style\");\n    element.appendChild(document.createTextNode(css));\n    document.body.appendChild(element);\n  }\n\n  const js_urls = [\"https://cdn.bokeh.org/bokeh/release/bokeh-3.0.3.min.js\", \"https://cdn.bokeh.org/bokeh/release/bokeh-gl-3.0.3.min.js\", \"https://cdn.bokeh.org/bokeh/release/bokeh-widgets-3.0.3.min.js\", \"https://cdn.bokeh.org/bokeh/release/bokeh-tables-3.0.3.min.js\", \"https://cdn.bokeh.org/bokeh/release/bokeh-mathjax-3.0.3.min.js\"];\n  const css_urls = [];\n\n  const inline_js = [    function(Bokeh) {\n      Bokeh.set_log_level(\"info\");\n    },\nfunction(Bokeh) {\n    }\n  ];\n\n  function run_inline_js() {\n    if (root.Bokeh !== undefined || force === true) {\n          for (let i = 0; i < inline_js.length; i++) {\n      inline_js[i].call(root, root.Bokeh);\n    }\nif (force === true) {\n        display_loaded();\n      }} else if (Date.now() < root._bokeh_timeout) {\n      setTimeout(run_inline_js, 100);\n    } else if (!root._bokeh_failed_load) {\n      console.log(\"Bokeh: BokehJS failed to load within specified timeout.\");\n      root._bokeh_failed_load = true;\n    } else if (force !== true) {\n      const cell = $(document.getElementById(\"p2065\")).parents('.cell').data().cell;\n      cell.output_area.append_execute_result(NB_LOAD_WARNING)\n    }\n  }\n\n  if (root._bokeh_is_loading === 0) {\n    console.debug(\"Bokeh: BokehJS loaded, going straight to plotting\");\n    run_inline_js();\n  } else {\n    load_libs(css_urls, js_urls, function() {\n      console.debug(\"Bokeh: BokehJS plotting callback run at\", now());\n      run_inline_js();\n    });\n  }\n}(window));"
          },
          "metadata": {},
          "output_type": "display_data"
        },
        {
          "data": {
            "text/html": [
              "\n",
              "  <div id=\"133cbde1-645a-4655-9c12-84ba0b48fc07\" data-root-id=\"p2066\" style=\"display: contents;\"></div>\n"
            ]
          },
          "metadata": {},
          "output_type": "display_data"
        },
        {
          "data": {
            "application/javascript": [
              "(function(root) {\n",
              "  function embed_document(root) {\n",
              "  const docs_json = {\"77f451e2-6ce5-4721-9fea-73538eec9fac\":{\"version\":\"3.0.3\",\"title\":\"Bokeh Application\",\"defs\":[],\"roots\":[{\"type\":\"object\",\"name\":\"Figure\",\"id\":\"p2066\",\"attributes\":{\"x_range\":{\"type\":\"object\",\"name\":\"DataRange1d\",\"id\":\"p2067\"},\"y_range\":{\"type\":\"object\",\"name\":\"DataRange1d\",\"id\":\"p2068\"},\"x_scale\":{\"type\":\"object\",\"name\":\"LinearScale\",\"id\":\"p2080\"},\"y_scale\":{\"type\":\"object\",\"name\":\"LinearScale\",\"id\":\"p2082\"},\"title\":{\"type\":\"object\",\"name\":\"Title\",\"id\":\"p2069\",\"attributes\":{\"text\":\"Sine Wave Function\"}},\"renderers\":[{\"type\":\"object\",\"name\":\"GlyphRenderer\",\"id\":\"p2119\",\"attributes\":{\"data_source\":{\"type\":\"object\",\"name\":\"ColumnDataSource\",\"id\":\"p2113\",\"attributes\":{\"selected\":{\"type\":\"object\",\"name\":\"Selection\",\"id\":\"p2114\",\"attributes\":{\"indices\":[],\"line_indices\":[]}},\"selection_policy\":{\"type\":\"object\",\"name\":\"UnionRenderers\",\"id\":\"p2115\"},\"data\":{\"type\":\"map\",\"entries\":[[\"x\",{\"type\":\"ndarray\",\"array\":{\"type\":\"bytes\",\"data\":\"AAAAAAAAAACRGkt8Vz+wP5EaS3xXP8A/2qdwOgNfyD+RGkt8Vz/QPzXhXVstT9Q/2qdwOgNf2D9+boMZ2W7cP5EaS3xXP+A/433Ua0JH4j814V1bLU/kP4dE50oYV+Y/2qdwOgNf6D8sC/op7mbqP35ugxnZbuw/0NEMCcR27j+RGkt8Vz/wPzrMD/RMQ/E/433Ua0JH8j+ML5njN0vzPzXhXVstT/Q/3pIi0yJT9T+HROdKGFf2PzD2q8INW/c/2qdwOgNf+D+DWTWy+GL5PywL+inuZvo/1by+oeNq+z9+boMZ2W78PycgSJHOcv0/0NEMCcR2/j95g9GAuXr/P5EaS3xXPwBAZnMtOFLBAEA6zA/0TEMBQA8l8q9HxQFA433Ua0JHAkC41rYnPckCQIwvmeM3SwNAYYh7nzLNA0A14V1bLU8EQAo6QBco0QRA3pIi0yJTBUCz6wSPHdUFQIdE50oYVwZAXJ3JBhPZBkAw9qvCDVsHQAVPjn4I3QdA2qdwOgNfCECuAFP2/eAIQINZNbL4YglAV7IXbvPkCUAsC/op7mYKQABk3OXo6ApA1by+oeNqC0CpFaFd3uwLQH5ugxnZbgxAUsdl1dPwDEAnIEiRznINQPt4Kk3J9A1A0NEMCcR2DkCkKu/EvvgOQHmD0YC5eg9ATdyzPLT8D0CRGkt8Vz8QQPtGPNpUgBBAZnMtOFLBEEDQnx6WTwIRQDrMD/RMQxFApPgAUkqEEUAPJfKvR8URQHlR4w1FBhJA433Ua0JHEkBNqsXJP4gSQLjWtic9yRJAIgOohToKE0CML5njN0sTQPZbikE1jBNAYYh7nzLNE0DLtGz9Lw4UQDXhXVstTxRAoA1PuSqQFEAKOkAXKNEUQHRmMXUlEhVA3pIi0yJTFUBJvxMxIJQVQLPrBI8d1RVAHRj27BoWFkCHROdKGFcWQPJw2KgVmBZAXJ3JBhPZFkDGybpkEBoXQDD2q8INWxdAmyKdIAucF0AFT45+CN0XQG97f9wFHhhA2qdwOgNfGEBE1GGYAKAYQK4AU/b94BhAGC1EVPshGUA=\"},\"shape\":[100],\"dtype\":\"float64\",\"order\":\"little\"}],[\"y\",{\"type\":\"ndarray\",\"array\":{\"type\":\"bytes\",\"data\":\"AAAAAAAAAAADhrXMjDywP/CDAnguNMA/kayggGI5yD+aiNkBzxLQP9ofIiFb+NM/+5MNU1HJ1z+CQNqEwoHbPxlNPurYHd8/C1i7+O1M4T9GhZoMGvniPxwWPFK3keQ/ABg/lCAV5j+GGZN4xoHnP4hAIRwx1ug/lkFFlgER6j93zoZi8zDrPzKcHq/dNOw/EyzujrQb7T/B8a4NiuTtP/0jPCWPju4/3176khQZ7z8XHIGMi4PvPzTGy1KGze8/g6xao7j27z/vOc8G+P7vP2Zmsvw75u8/70I4BJ6s7z+/l/eBWVLvPwOssILL1+4/xVNiW3I97j+TIxAn7YPtP1EHwCL7q+w/qUxY6Hq26z+RVimJaaTqP5aCD4nhduk/oSg6uxkv6D+158MBZM7mP9OHZvErVuU/8XixWvXH4z8mRkW6WiXiP2ITsJELcOA/8qg+VZVT3T/agWKM2KjZP/gLinSo49U/v412/ecH0j/lKaSyIjPMP+bENsZjOcQ/3FNHxZdVuD+s23zJpD6gP8nbfMmkPqC/6lNHxZdVuL/txDbGYznEv9wppLIiM8y/wo12/ecH0r/0C4p0qOPVv92BYozYqNm/7qg+VZVT3b9jE7CRC3DgvyRGRbpaJeK/83ixWvXH47/Rh2bxK1blv7fnwwFkzua/oCg6uxkv6L+Xgg+J4Xbpv5BWKYlppOq/rExY6Hq2679SB8Ai+6vsv5MjECftg+2/xFNiW3I97r8ErLCCy9fuv7+X94FZUu+/70I4BJ6s779lZrL8O+bvv+85zwb4/u+/g6xao7j27780xstShs3vvxgcgYyLg++/3176khQZ77/9Izwlj47uv8Lxrg2K5O2/EizujrQb7b8xnB6v3TTsv3fOhmLzMOu/l0FFlgER6r+GQCEcMdbov4UZk3jGgee/ABg/lCAV5r8fFjxSt5Hkv0SFmgwa+eK/Cli7+O1M4b8bTT7q2B3fv4dA2oTCgdu/9ZMNU1HJ17/ZHyIhW/jTv52I2QHPEtC/gKyggGI5yL/ogwJ4LjTAvwSGtcyMPLC/B1wUMyamsbw=\"},\"shape\":[100],\"dtype\":\"float64\",\"order\":\"little\"}]]}}},\"view\":{\"type\":\"object\",\"name\":\"CDSView\",\"id\":\"p2120\",\"attributes\":{\"filter\":{\"type\":\"object\",\"name\":\"AllIndices\",\"id\":\"p2121\"}}},\"glyph\":{\"type\":\"object\",\"name\":\"Line\",\"id\":\"p2116\",\"attributes\":{\"x\":{\"type\":\"field\",\"field\":\"x\"},\"y\":{\"type\":\"field\",\"field\":\"y\"},\"line_color\":\"#1f77b4\",\"line_width\":2}},\"nonselection_glyph\":{\"type\":\"object\",\"name\":\"Line\",\"id\":\"p2117\",\"attributes\":{\"x\":{\"type\":\"field\",\"field\":\"x\"},\"y\":{\"type\":\"field\",\"field\":\"y\"},\"line_color\":\"#1f77b4\",\"line_alpha\":0.1,\"line_width\":2}},\"muted_glyph\":{\"type\":\"object\",\"name\":\"Line\",\"id\":\"p2118\",\"attributes\":{\"x\":{\"type\":\"field\",\"field\":\"x\"},\"y\":{\"type\":\"field\",\"field\":\"y\"},\"line_color\":\"#1f77b4\",\"line_alpha\":0.2,\"line_width\":2}}}}],\"toolbar\":{\"type\":\"object\",\"name\":\"Toolbar\",\"id\":\"p2075\",\"attributes\":{\"tools\":[{\"type\":\"object\",\"name\":\"PanTool\",\"id\":\"p2098\"},{\"type\":\"object\",\"name\":\"WheelZoomTool\",\"id\":\"p2099\"},{\"type\":\"object\",\"name\":\"BoxZoomTool\",\"id\":\"p2100\",\"attributes\":{\"overlay\":{\"type\":\"object\",\"name\":\"BoxAnnotation\",\"id\":\"p2101\",\"attributes\":{\"syncable\":false,\"level\":\"overlay\",\"visible\":false,\"left_units\":\"canvas\",\"right_units\":\"canvas\",\"bottom_units\":\"canvas\",\"top_units\":\"canvas\",\"line_color\":\"black\",\"line_alpha\":1.0,\"line_width\":2,\"line_dash\":[4,4],\"fill_color\":\"lightgrey\",\"fill_alpha\":0.5}}}},{\"type\":\"object\",\"name\":\"SaveTool\",\"id\":\"p2102\"},{\"type\":\"object\",\"name\":\"ResetTool\",\"id\":\"p2103\"},{\"type\":\"object\",\"name\":\"HelpTool\",\"id\":\"p2104\"}]}},\"left\":[{\"type\":\"object\",\"name\":\"LinearAxis\",\"id\":\"p2091\",\"attributes\":{\"ticker\":{\"type\":\"object\",\"name\":\"BasicTicker\",\"id\":\"p2092\",\"attributes\":{\"mantissas\":[1,2,5]}},\"formatter\":{\"type\":\"object\",\"name\":\"BasicTickFormatter\",\"id\":\"p2094\"},\"axis_label\":\"Y-axis\",\"major_label_policy\":{\"type\":\"object\",\"name\":\"AllLabels\",\"id\":\"p2093\"}}}],\"below\":[{\"type\":\"object\",\"name\":\"LinearAxis\",\"id\":\"p2084\",\"attributes\":{\"ticker\":{\"type\":\"object\",\"name\":\"BasicTicker\",\"id\":\"p2085\",\"attributes\":{\"mantissas\":[1,2,5]}},\"formatter\":{\"type\":\"object\",\"name\":\"BasicTickFormatter\",\"id\":\"p2087\"},\"axis_label\":\"X-axis\",\"major_label_policy\":{\"type\":\"object\",\"name\":\"AllLabels\",\"id\":\"p2086\"}}}],\"center\":[{\"type\":\"object\",\"name\":\"Grid\",\"id\":\"p2090\",\"attributes\":{\"axis\":{\"id\":\"p2084\"},\"grid_line_alpha\":0.5}},{\"type\":\"object\",\"name\":\"Grid\",\"id\":\"p2097\",\"attributes\":{\"dimension\":1,\"axis\":{\"id\":\"p2091\"},\"grid_line_alpha\":0.5}}]}}]}};\n",
              "  const render_items = [{\"docid\":\"77f451e2-6ce5-4721-9fea-73538eec9fac\",\"roots\":{\"p2066\":\"133cbde1-645a-4655-9c12-84ba0b48fc07\"},\"root_ids\":[\"p2066\"]}];\n",
              "  root.Bokeh.embed.embed_items_notebook(docs_json, render_items);\n",
              "  }\n",
              "  if (root.Bokeh !== undefined) {\n",
              "    embed_document(root);\n",
              "  } else {\n",
              "    let attempts = 0;\n",
              "    const timer = setInterval(function(root) {\n",
              "      if (root.Bokeh !== undefined) {\n",
              "        clearInterval(timer);\n",
              "        embed_document(root);\n",
              "      } else {\n",
              "        attempts++;\n",
              "        if (attempts > 100) {\n",
              "          clearInterval(timer);\n",
              "          console.log(\"Bokeh: ERROR: Unable to run BokehJS code because BokehJS library is missing\");\n",
              "        }\n",
              "      }\n",
              "    }, 10, root)\n",
              "  }\n",
              "})(window);"
            ],
            "application/vnd.bokehjs_exec.v0+json": ""
          },
          "metadata": {
            "application/vnd.bokehjs_exec.v0+json": {
              "id": "p2066"
            }
          },
          "output_type": "display_data"
        }
      ],
      "source": [
        "# output to notebook -> https://www.geeksforgeeks.org/python-data-visualization-using-bokeh/\n",
        "output_notebook()\n",
        "\n",
        "# creating a figure\n",
        "p = figure(title='Sine Wave Function', x_axis_label='X-axis', y_axis_label='Y-axis')\n",
        "\n",
        "# plot the function\n",
        "p.line(x, y, line_width=2)\n",
        "\n",
        "# adding the grid lines\n",
        "p.grid.grid_line_alpha = 0.5\n",
        "\n",
        "# Show the plot\n",
        "show(p)"
      ]
    },
    {
      "cell_type": "markdown",
      "id": "374636b7-ee07-4458-ab65-c8fc6c44cc08",
      "metadata": {
        "id": "374636b7-ee07-4458-ab65-c8fc6c44cc08"
      },
      "source": [
        "Q19. Using Bokeh, \u0015enerate a bar chart of randomly \u0015enerated cate\u0015orical data, color bars based on their\n",
        "values, add hover tooltips to display exact values, label the axes, and set the title as 'Random Categorical\n",
        "Bar Chart."
      ]
    },
    {
      "cell_type": "code",
      "execution_count": null,
      "id": "be1c4676-aa45-4377-b1af-760833183e3b",
      "metadata": {
        "id": "be1c4676-aa45-4377-b1af-760833183e3b"
      },
      "outputs": [],
      "source": [
        "# importing lib\n",
        "from bokeh.models import ColumnDataSource, HoverTool\n",
        "from bokeh.transform import factor_cmap"
      ]
    },
    {
      "cell_type": "code",
      "execution_count": null,
      "id": "cc1b9725-18c1-4ec5-8d8d-e11f93c6f564",
      "metadata": {
        "id": "cc1b9725-18c1-4ec5-8d8d-e11f93c6f564",
        "outputId": "3e3ce9c6-02a9-4924-82cf-18e456178e67"
      },
      "outputs": [
        {
          "data": {
            "text/plain": [
              "array([50,  2, 45, 41])"
            ]
          },
          "execution_count": 135,
          "metadata": {},
          "output_type": "execute_result"
        }
      ],
      "source": [
        "categories = ['Category A', 'Category B', 'Category C', 'Category D']\n",
        "values = np.random.randint(1, 100, len(categories))\n",
        "\n",
        "values"
      ]
    },
    {
      "cell_type": "code",
      "execution_count": null,
      "id": "1b06694b-20f8-4b77-b796-1533ca7ba407",
      "metadata": {
        "id": "1b06694b-20f8-4b77-b796-1533ca7ba407"
      },
      "outputs": [],
      "source": [
        "# creating a ColumnDataSource to store the data\n",
        "source = ColumnDataSource(data=dict(categories=categories, values=values))"
      ]
    },
    {
      "cell_type": "code",
      "execution_count": null,
      "id": "53d82047-476e-44da-bcbe-a6b4c281476b",
      "metadata": {
        "id": "53d82047-476e-44da-bcbe-a6b4c281476b",
        "outputId": "84ef0fed-ab4e-4062-d800-6730696aaeee"
      },
      "outputs": [
        {
          "data": {
            "text/html": [
              "\n",
              "  <div id=\"ac8cd92c-68b1-4c08-b101-a0948a57af4b\" data-root-id=\"p2231\" style=\"display: contents;\"></div>\n"
            ]
          },
          "metadata": {},
          "output_type": "display_data"
        },
        {
          "data": {
            "application/javascript": [
              "(function(root) {\n",
              "  function embed_document(root) {\n",
              "  const docs_json = {\"d7a94e4c-7804-4b71-aad3-d9a1b9ad2fda\":{\"version\":\"3.0.3\",\"title\":\"Bokeh Application\",\"defs\":[],\"roots\":[{\"type\":\"object\",\"name\":\"Figure\",\"id\":\"p2231\",\"attributes\":{\"x_range\":{\"type\":\"object\",\"name\":\"FactorRange\",\"id\":\"p2241\",\"attributes\":{\"factors\":[\"Category A\",\"Category B\",\"Category C\",\"Category D\"]}},\"y_range\":{\"type\":\"object\",\"name\":\"DataRange1d\",\"id\":\"p2233\"},\"x_scale\":{\"type\":\"object\",\"name\":\"CategoricalScale\",\"id\":\"p2245\"},\"y_scale\":{\"type\":\"object\",\"name\":\"LinearScale\",\"id\":\"p2247\"},\"title\":{\"type\":\"object\",\"name\":\"Title\",\"id\":\"p2234\",\"attributes\":{\"text\":\"Random Categorical Bar Chart\"}},\"renderers\":[{\"type\":\"object\",\"name\":\"GlyphRenderer\",\"id\":\"p2270\",\"attributes\":{\"data_source\":{\"type\":\"object\",\"name\":\"ColumnDataSource\",\"id\":\"p2225\",\"attributes\":{\"selected\":{\"type\":\"object\",\"name\":\"Selection\",\"id\":\"p2226\",\"attributes\":{\"indices\":[],\"line_indices\":[]}},\"selection_policy\":{\"type\":\"object\",\"name\":\"UnionRenderers\",\"id\":\"p2227\"},\"data\":{\"type\":\"map\",\"entries\":[[\"categories\",[\"Category A\",\"Category B\",\"Category C\",\"Category D\"]],[\"values\",{\"type\":\"ndarray\",\"array\":{\"type\":\"bytes\",\"data\":\"MgAAAAIAAAAtAAAAKQAAAA==\"},\"shape\":[4],\"dtype\":\"int32\",\"order\":\"little\"}]]}}},\"view\":{\"type\":\"object\",\"name\":\"CDSView\",\"id\":\"p2271\",\"attributes\":{\"filter\":{\"type\":\"object\",\"name\":\"AllIndices\",\"id\":\"p2272\"}}},\"glyph\":{\"type\":\"object\",\"name\":\"VBar\",\"id\":\"p2267\",\"attributes\":{\"x\":{\"type\":\"field\",\"field\":\"categories\"},\"width\":{\"type\":\"value\",\"value\":0.9},\"top\":{\"type\":\"field\",\"field\":\"values\"},\"line_color\":{\"type\":\"value\",\"value\":\"white\"},\"fill_color\":{\"type\":\"field\",\"field\":\"categories\",\"transform\":{\"type\":\"object\",\"name\":\"CategoricalColorMapper\",\"id\":\"p2263\",\"attributes\":{\"palette\":[\"red\",\"green\",\"blue\",\"orange\"],\"factors\":[\"Category A\",\"Category B\",\"Category C\",\"Category D\"]}}}}},\"nonselection_glyph\":{\"type\":\"object\",\"name\":\"VBar\",\"id\":\"p2268\",\"attributes\":{\"x\":{\"type\":\"field\",\"field\":\"categories\"},\"width\":{\"type\":\"value\",\"value\":0.9},\"top\":{\"type\":\"field\",\"field\":\"values\"},\"line_color\":{\"type\":\"value\",\"value\":\"white\"},\"line_alpha\":{\"type\":\"value\",\"value\":0.1},\"fill_color\":{\"type\":\"field\",\"field\":\"categories\",\"transform\":{\"id\":\"p2263\"}},\"fill_alpha\":{\"type\":\"value\",\"value\":0.1},\"hatch_alpha\":{\"type\":\"value\",\"value\":0.1}}},\"muted_glyph\":{\"type\":\"object\",\"name\":\"VBar\",\"id\":\"p2269\",\"attributes\":{\"x\":{\"type\":\"field\",\"field\":\"categories\"},\"width\":{\"type\":\"value\",\"value\":0.9},\"top\":{\"type\":\"field\",\"field\":\"values\"},\"line_color\":{\"type\":\"value\",\"value\":\"white\"},\"line_alpha\":{\"type\":\"value\",\"value\":0.2},\"fill_color\":{\"type\":\"field\",\"field\":\"categories\",\"transform\":{\"id\":\"p2263\"}},\"fill_alpha\":{\"type\":\"value\",\"value\":0.2},\"hatch_alpha\":{\"type\":\"value\",\"value\":0.2}}}}}],\"toolbar\":{\"type\":\"object\",\"name\":\"Toolbar\",\"id\":\"p2240\",\"attributes\":{\"tools\":[{\"type\":\"object\",\"name\":\"HoverTool\",\"id\":\"p2273\",\"attributes\":{\"renderers\":\"auto\",\"tooltips\":[[\"Value\",\"@values\"]]}}]}},\"toolbar_location\":null,\"left\":[{\"type\":\"object\",\"name\":\"LinearAxis\",\"id\":\"p2255\",\"attributes\":{\"ticker\":{\"type\":\"object\",\"name\":\"BasicTicker\",\"id\":\"p2256\",\"attributes\":{\"mantissas\":[1,2,5]}},\"formatter\":{\"type\":\"object\",\"name\":\"BasicTickFormatter\",\"id\":\"p2258\"},\"axis_label\":\"Values\",\"major_label_policy\":{\"type\":\"object\",\"name\":\"AllLabels\",\"id\":\"p2257\"}}}],\"below\":[{\"type\":\"object\",\"name\":\"CategoricalAxis\",\"id\":\"p2249\",\"attributes\":{\"ticker\":{\"type\":\"object\",\"name\":\"CategoricalTicker\",\"id\":\"p2250\"},\"formatter\":{\"type\":\"object\",\"name\":\"CategoricalTickFormatter\",\"id\":\"p2252\"},\"axis_label\":\"Categories\",\"major_label_policy\":{\"type\":\"object\",\"name\":\"AllLabels\",\"id\":\"p2251\"}}}],\"center\":[{\"type\":\"object\",\"name\":\"Grid\",\"id\":\"p2254\",\"attributes\":{\"axis\":{\"id\":\"p2249\"}}},{\"type\":\"object\",\"name\":\"Grid\",\"id\":\"p2261\",\"attributes\":{\"dimension\":1,\"axis\":{\"id\":\"p2255\"}}}]}}]}};\n",
              "  const render_items = [{\"docid\":\"d7a94e4c-7804-4b71-aad3-d9a1b9ad2fda\",\"roots\":{\"p2231\":\"ac8cd92c-68b1-4c08-b101-a0948a57af4b\"},\"root_ids\":[\"p2231\"]}];\n",
              "  root.Bokeh.embed.embed_items_notebook(docs_json, render_items);\n",
              "  }\n",
              "  if (root.Bokeh !== undefined) {\n",
              "    embed_document(root);\n",
              "  } else {\n",
              "    let attempts = 0;\n",
              "    const timer = setInterval(function(root) {\n",
              "      if (root.Bokeh !== undefined) {\n",
              "        clearInterval(timer);\n",
              "        embed_document(root);\n",
              "      } else {\n",
              "        attempts++;\n",
              "        if (attempts > 100) {\n",
              "          clearInterval(timer);\n",
              "          console.log(\"Bokeh: ERROR: Unable to run BokehJS code because BokehJS library is missing\");\n",
              "        }\n",
              "      }\n",
              "    }, 10, root)\n",
              "  }\n",
              "})(window);"
            ],
            "application/vnd.bokehjs_exec.v0+json": ""
          },
          "metadata": {
            "application/vnd.bokehjs_exec.v0+json": {
              "id": "p2231"
            }
          },
          "output_type": "display_data"
        }
      ],
      "source": [
        "p = figure(x_range=categories, title='Random Categorical Bar Chart',\n",
        "           toolbar_location=None, tools=\"\")\n",
        "\n",
        "p.vbar(x='categories', top='values', width=0.9, source=source,\n",
        "       line_color='white', fill_color=factor_cmap('categories', palette=['red', 'green', 'blue', 'orange'], factors=categories))\n",
        "\n",
        "# adding hover tooltips\n",
        "p.add_tools(HoverTool(tooltips=[('Value', '@values')]))\n",
        "\n",
        "p.xaxis.axis_label = 'Categories'\n",
        "p.yaxis.axis_label = 'Values'\n",
        "show(p)"
      ]
    },
    {
      "cell_type": "markdown",
      "id": "ec29ba96-f4f7-445b-8ebe-5c1c0c6e8e9b",
      "metadata": {
        "id": "ec29ba96-f4f7-445b-8ebe-5c1c0c6e8e9b"
      },
      "source": [
        "Q20. Using Plotly, create a basic line plot of a randomly \u0015enerated dataset, label the axes, and set the title as\n",
        "'Simple Line Plot'."
      ]
    },
    {
      "cell_type": "code",
      "execution_count": 1,
      "id": "58e9eb2d-f6b0-47da-b53e-1cc03dee0bfc",
      "metadata": {
        "colab": {
          "base_uri": "https://localhost:8080/"
        },
        "id": "58e9eb2d-f6b0-47da-b53e-1cc03dee0bfc",
        "outputId": "7a51aa12-db18-468c-b737-d2875fb5db91"
      },
      "outputs": [
        {
          "output_type": "stream",
          "name": "stdout",
          "text": [
            "Requirement already satisfied: plotly in /usr/local/lib/python3.10/dist-packages (5.15.0)\n",
            "Requirement already satisfied: tenacity>=6.2.0 in /usr/local/lib/python3.10/dist-packages (from plotly) (8.3.0)\n",
            "Requirement already satisfied: packaging in /usr/local/lib/python3.10/dist-packages (from plotly) (24.0)\n"
          ]
        }
      ],
      "source": [
        "# installing plotly\n",
        "!pip install plotly"
      ]
    },
    {
      "cell_type": "code",
      "execution_count": 3,
      "id": "c19f5669-f646-41d8-826d-ca58a4959f33",
      "metadata": {
        "id": "c19f5669-f646-41d8-826d-ca58a4959f33"
      },
      "outputs": [],
      "source": [
        "# importing lib\n",
        "import plotly.express as px\n"
      ]
    },
    {
      "cell_type": "code",
      "source": [
        "import numpy as np"
      ],
      "metadata": {
        "id": "LLN93MeQDKnS"
      },
      "id": "LLN93MeQDKnS",
      "execution_count": 4,
      "outputs": []
    },
    {
      "cell_type": "code",
      "execution_count": 5,
      "id": "18e5438d-2008-4d7a-bacd-dcb0e57c2e08",
      "metadata": {
        "id": "18e5438d-2008-4d7a-bacd-dcb0e57c2e08"
      },
      "outputs": [],
      "source": [
        "x = np.linspace(0, 10, 100)\n",
        "y = np.random.rand(100)"
      ]
    },
    {
      "cell_type": "code",
      "execution_count": 6,
      "id": "69c19398-e468-4060-a927-2dab1317989c",
      "metadata": {
        "colab": {
          "base_uri": "https://localhost:8080/",
          "height": 542
        },
        "id": "69c19398-e468-4060-a927-2dab1317989c",
        "outputId": "9c24fbe3-79af-4441-ba66-790249b17c22"
      },
      "outputs": [
        {
          "output_type": "display_data",
          "data": {
            "text/html": [
              "<html>\n",
              "<head><meta charset=\"utf-8\" /></head>\n",
              "<body>\n",
              "    <div>            <script src=\"https://cdnjs.cloudflare.com/ajax/libs/mathjax/2.7.5/MathJax.js?config=TeX-AMS-MML_SVG\"></script><script type=\"text/javascript\">if (window.MathJax && window.MathJax.Hub && window.MathJax.Hub.Config) {window.MathJax.Hub.Config({SVG: {font: \"STIX-Web\"}});}</script>                <script type=\"text/javascript\">window.PlotlyConfig = {MathJaxConfig: 'local'};</script>\n",
              "        <script charset=\"utf-8\" src=\"https://cdn.plot.ly/plotly-2.24.1.min.js\"></script>                <div id=\"59e62a6d-741c-4cb1-8c96-04824133d679\" class=\"plotly-graph-div\" style=\"height:525px; width:100%;\"></div>            <script type=\"text/javascript\">                                    window.PLOTLYENV=window.PLOTLYENV || {};                                    if (document.getElementById(\"59e62a6d-741c-4cb1-8c96-04824133d679\")) {                    Plotly.newPlot(                        \"59e62a6d-741c-4cb1-8c96-04824133d679\",                        [{\"hovertemplate\":\"x=%{x}\\u003cbr\\u003ey=%{y}\\u003cextra\\u003e\\u003c\\u002fextra\\u003e\",\"legendgroup\":\"\",\"line\":{\"color\":\"#636efa\",\"dash\":\"solid\"},\"marker\":{\"symbol\":\"circle\"},\"mode\":\"lines\",\"name\":\"\",\"orientation\":\"v\",\"showlegend\":false,\"x\":[0.0,0.10101010101010101,0.20202020202020202,0.30303030303030304,0.40404040404040403,0.5050505050505051,0.6060606060606061,0.7070707070707071,0.8080808080808081,0.9090909090909091,1.0101010101010102,1.1111111111111112,1.2121212121212122,1.3131313131313131,1.4141414141414141,1.5151515151515151,1.6161616161616161,1.7171717171717171,1.8181818181818181,1.9191919191919191,2.0202020202020203,2.121212121212121,2.2222222222222223,2.323232323232323,2.4242424242424243,2.525252525252525,2.6262626262626263,2.727272727272727,2.8282828282828283,2.929292929292929,3.0303030303030303,3.131313131313131,3.2323232323232323,3.3333333333333335,3.4343434343434343,3.5353535353535355,3.6363636363636362,3.7373737373737375,3.8383838383838382,3.9393939393939394,4.040404040404041,4.141414141414141,4.242424242424242,4.343434343434343,4.444444444444445,4.545454545454545,4.646464646464646,4.747474747474747,4.848484848484849,4.94949494949495,5.05050505050505,5.151515151515151,5.252525252525253,5.353535353535354,5.454545454545454,5.555555555555555,5.656565656565657,5.757575757575758,5.858585858585858,5.959595959595959,6.0606060606060606,6.161616161616162,6.262626262626262,6.363636363636363,6.4646464646464645,6.565656565656566,6.666666666666667,6.767676767676767,6.8686868686868685,6.96969696969697,7.070707070707071,7.171717171717171,7.2727272727272725,7.373737373737374,7.474747474747475,7.575757575757575,7.6767676767676765,7.777777777777778,7.878787878787879,7.979797979797979,8.080808080808081,8.181818181818182,8.282828282828282,8.383838383838384,8.484848484848484,8.585858585858587,8.686868686868687,8.787878787878787,8.88888888888889,8.98989898989899,9.09090909090909,9.191919191919192,9.292929292929292,9.393939393939394,9.494949494949495,9.595959595959595,9.696969696969697,9.797979797979798,9.8989898989899,10.0],\"xaxis\":\"x\",\"y\":[0.27344079050505843,0.6977152516784387,0.6507106290126166,0.03443576231851919,0.6294781089156927,0.7616495279772036,0.2676226954093568,0.7855670524828182,0.8205775241995346,0.28933011406679965,0.36549381010889637,0.5215390794690462,0.2541016069270511,0.9055572574852044,0.8544075259385014,0.8437291115397408,0.5403603649830161,0.04370824778184912,0.9916509819775701,0.1623362278484558,0.22767906084984024,0.906441717651013,0.496760124974307,0.21076705182026212,0.11364903916673741,0.014789962059520656,0.27522790893817695,0.32278513205021775,0.033850826826897995,0.12503682535402882,0.40754274999361784,0.9975489241749336,0.3764869329774517,0.15407917397383386,0.009583128776993632,0.10652203218177425,0.49615026193573564,0.3567899464289317,0.399171524981053,0.788526685996652,0.23555416283962094,0.01417593254143823,0.07054514664277112,0.7860086295793414,0.24871732836685223,0.4917489091933278,0.7203469359301041,0.7817856132109099,0.3048117690124761,0.7833886427693255,0.1934934430501406,0.7769993271675022,0.8675743647775337,0.4478785841773648,0.4317841647902245,0.6627980483283049,0.24737752632370769,0.6778221582972449,0.8285340645149676,0.07710969744909968,0.3877124084143131,0.1739488704356581,0.5726125408738282,0.5656265719112342,0.04163070794438983,0.15142987111308648,0.3882800305242481,0.9102694568278145,0.5771997569247385,0.3247157077553773,0.2574224151119433,0.21134634056353974,0.7939831673298261,0.8897934843437338,0.6266857572795158,0.8544734424324534,0.9412508667805902,0.1741337279319033,0.9631534980365751,0.350448520516652,0.17704501639041692,0.15582445646963672,0.022410327582266576,0.6557886026255221,0.11914214219962416,0.7351645814157696,0.38905754961216454,0.222501975889573,0.7991407311775279,0.03456445013852538,0.9264287171362796,0.5000753336711453,0.07092699583178641,0.5707649925288054,0.1041709995553809,0.7029851986525049,0.6063602713866709,0.15180676863825027,0.24470286249781859,0.6347300439412368],\"yaxis\":\"y\",\"type\":\"scatter\"}],                        {\"template\":{\"data\":{\"histogram2dcontour\":[{\"type\":\"histogram2dcontour\",\"colorbar\":{\"outlinewidth\":0,\"ticks\":\"\"},\"colorscale\":[[0.0,\"#0d0887\"],[0.1111111111111111,\"#46039f\"],[0.2222222222222222,\"#7201a8\"],[0.3333333333333333,\"#9c179e\"],[0.4444444444444444,\"#bd3786\"],[0.5555555555555556,\"#d8576b\"],[0.6666666666666666,\"#ed7953\"],[0.7777777777777778,\"#fb9f3a\"],[0.8888888888888888,\"#fdca26\"],[1.0,\"#f0f921\"]]}],\"choropleth\":[{\"type\":\"choropleth\",\"colorbar\":{\"outlinewidth\":0,\"ticks\":\"\"}}],\"histogram2d\":[{\"type\":\"histogram2d\",\"colorbar\":{\"outlinewidth\":0,\"ticks\":\"\"},\"colorscale\":[[0.0,\"#0d0887\"],[0.1111111111111111,\"#46039f\"],[0.2222222222222222,\"#7201a8\"],[0.3333333333333333,\"#9c179e\"],[0.4444444444444444,\"#bd3786\"],[0.5555555555555556,\"#d8576b\"],[0.6666666666666666,\"#ed7953\"],[0.7777777777777778,\"#fb9f3a\"],[0.8888888888888888,\"#fdca26\"],[1.0,\"#f0f921\"]]}],\"heatmap\":[{\"type\":\"heatmap\",\"colorbar\":{\"outlinewidth\":0,\"ticks\":\"\"},\"colorscale\":[[0.0,\"#0d0887\"],[0.1111111111111111,\"#46039f\"],[0.2222222222222222,\"#7201a8\"],[0.3333333333333333,\"#9c179e\"],[0.4444444444444444,\"#bd3786\"],[0.5555555555555556,\"#d8576b\"],[0.6666666666666666,\"#ed7953\"],[0.7777777777777778,\"#fb9f3a\"],[0.8888888888888888,\"#fdca26\"],[1.0,\"#f0f921\"]]}],\"heatmapgl\":[{\"type\":\"heatmapgl\",\"colorbar\":{\"outlinewidth\":0,\"ticks\":\"\"},\"colorscale\":[[0.0,\"#0d0887\"],[0.1111111111111111,\"#46039f\"],[0.2222222222222222,\"#7201a8\"],[0.3333333333333333,\"#9c179e\"],[0.4444444444444444,\"#bd3786\"],[0.5555555555555556,\"#d8576b\"],[0.6666666666666666,\"#ed7953\"],[0.7777777777777778,\"#fb9f3a\"],[0.8888888888888888,\"#fdca26\"],[1.0,\"#f0f921\"]]}],\"contourcarpet\":[{\"type\":\"contourcarpet\",\"colorbar\":{\"outlinewidth\":0,\"ticks\":\"\"}}],\"contour\":[{\"type\":\"contour\",\"colorbar\":{\"outlinewidth\":0,\"ticks\":\"\"},\"colorscale\":[[0.0,\"#0d0887\"],[0.1111111111111111,\"#46039f\"],[0.2222222222222222,\"#7201a8\"],[0.3333333333333333,\"#9c179e\"],[0.4444444444444444,\"#bd3786\"],[0.5555555555555556,\"#d8576b\"],[0.6666666666666666,\"#ed7953\"],[0.7777777777777778,\"#fb9f3a\"],[0.8888888888888888,\"#fdca26\"],[1.0,\"#f0f921\"]]}],\"surface\":[{\"type\":\"surface\",\"colorbar\":{\"outlinewidth\":0,\"ticks\":\"\"},\"colorscale\":[[0.0,\"#0d0887\"],[0.1111111111111111,\"#46039f\"],[0.2222222222222222,\"#7201a8\"],[0.3333333333333333,\"#9c179e\"],[0.4444444444444444,\"#bd3786\"],[0.5555555555555556,\"#d8576b\"],[0.6666666666666666,\"#ed7953\"],[0.7777777777777778,\"#fb9f3a\"],[0.8888888888888888,\"#fdca26\"],[1.0,\"#f0f921\"]]}],\"mesh3d\":[{\"type\":\"mesh3d\",\"colorbar\":{\"outlinewidth\":0,\"ticks\":\"\"}}],\"scatter\":[{\"fillpattern\":{\"fillmode\":\"overlay\",\"size\":10,\"solidity\":0.2},\"type\":\"scatter\"}],\"parcoords\":[{\"type\":\"parcoords\",\"line\":{\"colorbar\":{\"outlinewidth\":0,\"ticks\":\"\"}}}],\"scatterpolargl\":[{\"type\":\"scatterpolargl\",\"marker\":{\"colorbar\":{\"outlinewidth\":0,\"ticks\":\"\"}}}],\"bar\":[{\"error_x\":{\"color\":\"#2a3f5f\"},\"error_y\":{\"color\":\"#2a3f5f\"},\"marker\":{\"line\":{\"color\":\"#E5ECF6\",\"width\":0.5},\"pattern\":{\"fillmode\":\"overlay\",\"size\":10,\"solidity\":0.2}},\"type\":\"bar\"}],\"scattergeo\":[{\"type\":\"scattergeo\",\"marker\":{\"colorbar\":{\"outlinewidth\":0,\"ticks\":\"\"}}}],\"scatterpolar\":[{\"type\":\"scatterpolar\",\"marker\":{\"colorbar\":{\"outlinewidth\":0,\"ticks\":\"\"}}}],\"histogram\":[{\"marker\":{\"pattern\":{\"fillmode\":\"overlay\",\"size\":10,\"solidity\":0.2}},\"type\":\"histogram\"}],\"scattergl\":[{\"type\":\"scattergl\",\"marker\":{\"colorbar\":{\"outlinewidth\":0,\"ticks\":\"\"}}}],\"scatter3d\":[{\"type\":\"scatter3d\",\"line\":{\"colorbar\":{\"outlinewidth\":0,\"ticks\":\"\"}},\"marker\":{\"colorbar\":{\"outlinewidth\":0,\"ticks\":\"\"}}}],\"scattermapbox\":[{\"type\":\"scattermapbox\",\"marker\":{\"colorbar\":{\"outlinewidth\":0,\"ticks\":\"\"}}}],\"scatterternary\":[{\"type\":\"scatterternary\",\"marker\":{\"colorbar\":{\"outlinewidth\":0,\"ticks\":\"\"}}}],\"scattercarpet\":[{\"type\":\"scattercarpet\",\"marker\":{\"colorbar\":{\"outlinewidth\":0,\"ticks\":\"\"}}}],\"carpet\":[{\"aaxis\":{\"endlinecolor\":\"#2a3f5f\",\"gridcolor\":\"white\",\"linecolor\":\"white\",\"minorgridcolor\":\"white\",\"startlinecolor\":\"#2a3f5f\"},\"baxis\":{\"endlinecolor\":\"#2a3f5f\",\"gridcolor\":\"white\",\"linecolor\":\"white\",\"minorgridcolor\":\"white\",\"startlinecolor\":\"#2a3f5f\"},\"type\":\"carpet\"}],\"table\":[{\"cells\":{\"fill\":{\"color\":\"#EBF0F8\"},\"line\":{\"color\":\"white\"}},\"header\":{\"fill\":{\"color\":\"#C8D4E3\"},\"line\":{\"color\":\"white\"}},\"type\":\"table\"}],\"barpolar\":[{\"marker\":{\"line\":{\"color\":\"#E5ECF6\",\"width\":0.5},\"pattern\":{\"fillmode\":\"overlay\",\"size\":10,\"solidity\":0.2}},\"type\":\"barpolar\"}],\"pie\":[{\"automargin\":true,\"type\":\"pie\"}]},\"layout\":{\"autotypenumbers\":\"strict\",\"colorway\":[\"#636efa\",\"#EF553B\",\"#00cc96\",\"#ab63fa\",\"#FFA15A\",\"#19d3f3\",\"#FF6692\",\"#B6E880\",\"#FF97FF\",\"#FECB52\"],\"font\":{\"color\":\"#2a3f5f\"},\"hovermode\":\"closest\",\"hoverlabel\":{\"align\":\"left\"},\"paper_bgcolor\":\"white\",\"plot_bgcolor\":\"#E5ECF6\",\"polar\":{\"bgcolor\":\"#E5ECF6\",\"angularaxis\":{\"gridcolor\":\"white\",\"linecolor\":\"white\",\"ticks\":\"\"},\"radialaxis\":{\"gridcolor\":\"white\",\"linecolor\":\"white\",\"ticks\":\"\"}},\"ternary\":{\"bgcolor\":\"#E5ECF6\",\"aaxis\":{\"gridcolor\":\"white\",\"linecolor\":\"white\",\"ticks\":\"\"},\"baxis\":{\"gridcolor\":\"white\",\"linecolor\":\"white\",\"ticks\":\"\"},\"caxis\":{\"gridcolor\":\"white\",\"linecolor\":\"white\",\"ticks\":\"\"}},\"coloraxis\":{\"colorbar\":{\"outlinewidth\":0,\"ticks\":\"\"}},\"colorscale\":{\"sequential\":[[0.0,\"#0d0887\"],[0.1111111111111111,\"#46039f\"],[0.2222222222222222,\"#7201a8\"],[0.3333333333333333,\"#9c179e\"],[0.4444444444444444,\"#bd3786\"],[0.5555555555555556,\"#d8576b\"],[0.6666666666666666,\"#ed7953\"],[0.7777777777777778,\"#fb9f3a\"],[0.8888888888888888,\"#fdca26\"],[1.0,\"#f0f921\"]],\"sequentialminus\":[[0.0,\"#0d0887\"],[0.1111111111111111,\"#46039f\"],[0.2222222222222222,\"#7201a8\"],[0.3333333333333333,\"#9c179e\"],[0.4444444444444444,\"#bd3786\"],[0.5555555555555556,\"#d8576b\"],[0.6666666666666666,\"#ed7953\"],[0.7777777777777778,\"#fb9f3a\"],[0.8888888888888888,\"#fdca26\"],[1.0,\"#f0f921\"]],\"diverging\":[[0,\"#8e0152\"],[0.1,\"#c51b7d\"],[0.2,\"#de77ae\"],[0.3,\"#f1b6da\"],[0.4,\"#fde0ef\"],[0.5,\"#f7f7f7\"],[0.6,\"#e6f5d0\"],[0.7,\"#b8e186\"],[0.8,\"#7fbc41\"],[0.9,\"#4d9221\"],[1,\"#276419\"]]},\"xaxis\":{\"gridcolor\":\"white\",\"linecolor\":\"white\",\"ticks\":\"\",\"title\":{\"standoff\":15},\"zerolinecolor\":\"white\",\"automargin\":true,\"zerolinewidth\":2},\"yaxis\":{\"gridcolor\":\"white\",\"linecolor\":\"white\",\"ticks\":\"\",\"title\":{\"standoff\":15},\"zerolinecolor\":\"white\",\"automargin\":true,\"zerolinewidth\":2},\"scene\":{\"xaxis\":{\"backgroundcolor\":\"#E5ECF6\",\"gridcolor\":\"white\",\"linecolor\":\"white\",\"showbackground\":true,\"ticks\":\"\",\"zerolinecolor\":\"white\",\"gridwidth\":2},\"yaxis\":{\"backgroundcolor\":\"#E5ECF6\",\"gridcolor\":\"white\",\"linecolor\":\"white\",\"showbackground\":true,\"ticks\":\"\",\"zerolinecolor\":\"white\",\"gridwidth\":2},\"zaxis\":{\"backgroundcolor\":\"#E5ECF6\",\"gridcolor\":\"white\",\"linecolor\":\"white\",\"showbackground\":true,\"ticks\":\"\",\"zerolinecolor\":\"white\",\"gridwidth\":2}},\"shapedefaults\":{\"line\":{\"color\":\"#2a3f5f\"}},\"annotationdefaults\":{\"arrowcolor\":\"#2a3f5f\",\"arrowhead\":0,\"arrowwidth\":1},\"geo\":{\"bgcolor\":\"white\",\"landcolor\":\"#E5ECF6\",\"subunitcolor\":\"white\",\"showland\":true,\"showlakes\":true,\"lakecolor\":\"white\"},\"title\":{\"x\":0.05},\"mapbox\":{\"style\":\"light\"}}},\"xaxis\":{\"anchor\":\"y\",\"domain\":[0.0,1.0],\"title\":{\"text\":\"X Axis Label\"}},\"yaxis\":{\"anchor\":\"x\",\"domain\":[0.0,1.0],\"title\":{\"text\":\"Y Axis Label\"}},\"legend\":{\"tracegroupgap\":0},\"margin\":{\"t\":60},\"title\":{\"text\":\"Simple Line Plot\"}},                        {\"responsive\": true}                    ).then(function(){\n",
              "                            \n",
              "var gd = document.getElementById('59e62a6d-741c-4cb1-8c96-04824133d679');\n",
              "var x = new MutationObserver(function (mutations, observer) {{\n",
              "        var display = window.getComputedStyle(gd).display;\n",
              "        if (!display || display === 'none') {{\n",
              "            console.log([gd, 'removed!']);\n",
              "            Plotly.purge(gd);\n",
              "            observer.disconnect();\n",
              "        }}\n",
              "}});\n",
              "\n",
              "// Listen for the removal of the full notebook cells\n",
              "var notebookContainer = gd.closest('#notebook-container');\n",
              "if (notebookContainer) {{\n",
              "    x.observe(notebookContainer, {childList: true});\n",
              "}}\n",
              "\n",
              "// Listen for the clearing of the current output cell\n",
              "var outputEl = gd.closest('.output');\n",
              "if (outputEl) {{\n",
              "    x.observe(outputEl, {childList: true});\n",
              "}}\n",
              "\n",
              "                        })                };                            </script>        </div>\n",
              "</body>\n",
              "</html>"
            ]
          },
          "metadata": {}
        }
      ],
      "source": [
        "fig = px.line(x=x, y=y)\n",
        "\n",
        "# setting labels for axes and title\n",
        "fig.update_layout(\n",
        "    title='Simple Line Plot',\n",
        "    xaxis_title='X Axis Label',\n",
        "    yaxis_title='Y Axis Label'\n",
        ")\n",
        "\n",
        "fig.show()"
      ]
    },
    {
      "cell_type": "markdown",
      "id": "79478d47-4fbf-4ac4-bf2d-c890800b4dba",
      "metadata": {
        "id": "79478d47-4fbf-4ac4-bf2d-c890800b4dba"
      },
      "source": [
        "Q21. Usin\u0015 Plotly, create an interactive pie chart of randomly \u0015enerated data, add labels and percenta\u0015es, set\n",
        "the title as 'Interactive Pie Chart'."
      ]
    },
    {
      "cell_type": "code",
      "execution_count": 7,
      "id": "477f7bf1-6988-4a3b-a728-db173c8e305c",
      "metadata": {
        "colab": {
          "base_uri": "https://localhost:8080/"
        },
        "id": "477f7bf1-6988-4a3b-a728-db173c8e305c",
        "outputId": "18285381-8dfd-41c0-a0b8-a6a1f2f0009c"
      },
      "outputs": [
        {
          "output_type": "execute_result",
          "data": {
            "text/plain": [
              "array([43, 44, 73, 20])"
            ]
          },
          "metadata": {},
          "execution_count": 7
        }
      ],
      "source": [
        "categories = ['Category A', 'Category B', 'Category C', 'Category D']\n",
        "values = np.random.randint(1, 100, size=len(categories))\n",
        "\n",
        "values"
      ]
    },
    {
      "cell_type": "code",
      "execution_count": 8,
      "id": "ed4e4cab-2a7b-4512-a171-1ac2088b46ed",
      "metadata": {
        "colab": {
          "base_uri": "https://localhost:8080/",
          "height": 542
        },
        "id": "ed4e4cab-2a7b-4512-a171-1ac2088b46ed",
        "outputId": "9fcc21bd-17d4-4cd4-c736-7f71528e4980"
      },
      "outputs": [
        {
          "output_type": "display_data",
          "data": {
            "text/html": [
              "<html>\n",
              "<head><meta charset=\"utf-8\" /></head>\n",
              "<body>\n",
              "    <div>            <script src=\"https://cdnjs.cloudflare.com/ajax/libs/mathjax/2.7.5/MathJax.js?config=TeX-AMS-MML_SVG\"></script><script type=\"text/javascript\">if (window.MathJax && window.MathJax.Hub && window.MathJax.Hub.Config) {window.MathJax.Hub.Config({SVG: {font: \"STIX-Web\"}});}</script>                <script type=\"text/javascript\">window.PlotlyConfig = {MathJaxConfig: 'local'};</script>\n",
              "        <script charset=\"utf-8\" src=\"https://cdn.plot.ly/plotly-2.24.1.min.js\"></script>                <div id=\"ca44a802-430d-4813-adfd-f9333f6ef6fd\" class=\"plotly-graph-div\" style=\"height:525px; width:100%;\"></div>            <script type=\"text/javascript\">                                    window.PLOTLYENV=window.PLOTLYENV || {};                                    if (document.getElementById(\"ca44a802-430d-4813-adfd-f9333f6ef6fd\")) {                    Plotly.newPlot(                        \"ca44a802-430d-4813-adfd-f9333f6ef6fd\",                        [{\"domain\":{\"x\":[0.0,1.0],\"y\":[0.0,1.0]},\"hovertemplate\":\"label=%{label}\\u003cbr\\u003evalue=%{value}\\u003cextra\\u003e\\u003c\\u002fextra\\u003e\",\"labels\":[\"Category A\",\"Category B\",\"Category C\",\"Category D\"],\"legendgroup\":\"\",\"name\":\"\",\"showlegend\":true,\"values\":[43,44,73,20],\"type\":\"pie\"}],                        {\"template\":{\"data\":{\"histogram2dcontour\":[{\"type\":\"histogram2dcontour\",\"colorbar\":{\"outlinewidth\":0,\"ticks\":\"\"},\"colorscale\":[[0.0,\"#0d0887\"],[0.1111111111111111,\"#46039f\"],[0.2222222222222222,\"#7201a8\"],[0.3333333333333333,\"#9c179e\"],[0.4444444444444444,\"#bd3786\"],[0.5555555555555556,\"#d8576b\"],[0.6666666666666666,\"#ed7953\"],[0.7777777777777778,\"#fb9f3a\"],[0.8888888888888888,\"#fdca26\"],[1.0,\"#f0f921\"]]}],\"choropleth\":[{\"type\":\"choropleth\",\"colorbar\":{\"outlinewidth\":0,\"ticks\":\"\"}}],\"histogram2d\":[{\"type\":\"histogram2d\",\"colorbar\":{\"outlinewidth\":0,\"ticks\":\"\"},\"colorscale\":[[0.0,\"#0d0887\"],[0.1111111111111111,\"#46039f\"],[0.2222222222222222,\"#7201a8\"],[0.3333333333333333,\"#9c179e\"],[0.4444444444444444,\"#bd3786\"],[0.5555555555555556,\"#d8576b\"],[0.6666666666666666,\"#ed7953\"],[0.7777777777777778,\"#fb9f3a\"],[0.8888888888888888,\"#fdca26\"],[1.0,\"#f0f921\"]]}],\"heatmap\":[{\"type\":\"heatmap\",\"colorbar\":{\"outlinewidth\":0,\"ticks\":\"\"},\"colorscale\":[[0.0,\"#0d0887\"],[0.1111111111111111,\"#46039f\"],[0.2222222222222222,\"#7201a8\"],[0.3333333333333333,\"#9c179e\"],[0.4444444444444444,\"#bd3786\"],[0.5555555555555556,\"#d8576b\"],[0.6666666666666666,\"#ed7953\"],[0.7777777777777778,\"#fb9f3a\"],[0.8888888888888888,\"#fdca26\"],[1.0,\"#f0f921\"]]}],\"heatmapgl\":[{\"type\":\"heatmapgl\",\"colorbar\":{\"outlinewidth\":0,\"ticks\":\"\"},\"colorscale\":[[0.0,\"#0d0887\"],[0.1111111111111111,\"#46039f\"],[0.2222222222222222,\"#7201a8\"],[0.3333333333333333,\"#9c179e\"],[0.4444444444444444,\"#bd3786\"],[0.5555555555555556,\"#d8576b\"],[0.6666666666666666,\"#ed7953\"],[0.7777777777777778,\"#fb9f3a\"],[0.8888888888888888,\"#fdca26\"],[1.0,\"#f0f921\"]]}],\"contourcarpet\":[{\"type\":\"contourcarpet\",\"colorbar\":{\"outlinewidth\":0,\"ticks\":\"\"}}],\"contour\":[{\"type\":\"contour\",\"colorbar\":{\"outlinewidth\":0,\"ticks\":\"\"},\"colorscale\":[[0.0,\"#0d0887\"],[0.1111111111111111,\"#46039f\"],[0.2222222222222222,\"#7201a8\"],[0.3333333333333333,\"#9c179e\"],[0.4444444444444444,\"#bd3786\"],[0.5555555555555556,\"#d8576b\"],[0.6666666666666666,\"#ed7953\"],[0.7777777777777778,\"#fb9f3a\"],[0.8888888888888888,\"#fdca26\"],[1.0,\"#f0f921\"]]}],\"surface\":[{\"type\":\"surface\",\"colorbar\":{\"outlinewidth\":0,\"ticks\":\"\"},\"colorscale\":[[0.0,\"#0d0887\"],[0.1111111111111111,\"#46039f\"],[0.2222222222222222,\"#7201a8\"],[0.3333333333333333,\"#9c179e\"],[0.4444444444444444,\"#bd3786\"],[0.5555555555555556,\"#d8576b\"],[0.6666666666666666,\"#ed7953\"],[0.7777777777777778,\"#fb9f3a\"],[0.8888888888888888,\"#fdca26\"],[1.0,\"#f0f921\"]]}],\"mesh3d\":[{\"type\":\"mesh3d\",\"colorbar\":{\"outlinewidth\":0,\"ticks\":\"\"}}],\"scatter\":[{\"fillpattern\":{\"fillmode\":\"overlay\",\"size\":10,\"solidity\":0.2},\"type\":\"scatter\"}],\"parcoords\":[{\"type\":\"parcoords\",\"line\":{\"colorbar\":{\"outlinewidth\":0,\"ticks\":\"\"}}}],\"scatterpolargl\":[{\"type\":\"scatterpolargl\",\"marker\":{\"colorbar\":{\"outlinewidth\":0,\"ticks\":\"\"}}}],\"bar\":[{\"error_x\":{\"color\":\"#2a3f5f\"},\"error_y\":{\"color\":\"#2a3f5f\"},\"marker\":{\"line\":{\"color\":\"#E5ECF6\",\"width\":0.5},\"pattern\":{\"fillmode\":\"overlay\",\"size\":10,\"solidity\":0.2}},\"type\":\"bar\"}],\"scattergeo\":[{\"type\":\"scattergeo\",\"marker\":{\"colorbar\":{\"outlinewidth\":0,\"ticks\":\"\"}}}],\"scatterpolar\":[{\"type\":\"scatterpolar\",\"marker\":{\"colorbar\":{\"outlinewidth\":0,\"ticks\":\"\"}}}],\"histogram\":[{\"marker\":{\"pattern\":{\"fillmode\":\"overlay\",\"size\":10,\"solidity\":0.2}},\"type\":\"histogram\"}],\"scattergl\":[{\"type\":\"scattergl\",\"marker\":{\"colorbar\":{\"outlinewidth\":0,\"ticks\":\"\"}}}],\"scatter3d\":[{\"type\":\"scatter3d\",\"line\":{\"colorbar\":{\"outlinewidth\":0,\"ticks\":\"\"}},\"marker\":{\"colorbar\":{\"outlinewidth\":0,\"ticks\":\"\"}}}],\"scattermapbox\":[{\"type\":\"scattermapbox\",\"marker\":{\"colorbar\":{\"outlinewidth\":0,\"ticks\":\"\"}}}],\"scatterternary\":[{\"type\":\"scatterternary\",\"marker\":{\"colorbar\":{\"outlinewidth\":0,\"ticks\":\"\"}}}],\"scattercarpet\":[{\"type\":\"scattercarpet\",\"marker\":{\"colorbar\":{\"outlinewidth\":0,\"ticks\":\"\"}}}],\"carpet\":[{\"aaxis\":{\"endlinecolor\":\"#2a3f5f\",\"gridcolor\":\"white\",\"linecolor\":\"white\",\"minorgridcolor\":\"white\",\"startlinecolor\":\"#2a3f5f\"},\"baxis\":{\"endlinecolor\":\"#2a3f5f\",\"gridcolor\":\"white\",\"linecolor\":\"white\",\"minorgridcolor\":\"white\",\"startlinecolor\":\"#2a3f5f\"},\"type\":\"carpet\"}],\"table\":[{\"cells\":{\"fill\":{\"color\":\"#EBF0F8\"},\"line\":{\"color\":\"white\"}},\"header\":{\"fill\":{\"color\":\"#C8D4E3\"},\"line\":{\"color\":\"white\"}},\"type\":\"table\"}],\"barpolar\":[{\"marker\":{\"line\":{\"color\":\"#E5ECF6\",\"width\":0.5},\"pattern\":{\"fillmode\":\"overlay\",\"size\":10,\"solidity\":0.2}},\"type\":\"barpolar\"}],\"pie\":[{\"automargin\":true,\"type\":\"pie\"}]},\"layout\":{\"autotypenumbers\":\"strict\",\"colorway\":[\"#636efa\",\"#EF553B\",\"#00cc96\",\"#ab63fa\",\"#FFA15A\",\"#19d3f3\",\"#FF6692\",\"#B6E880\",\"#FF97FF\",\"#FECB52\"],\"font\":{\"color\":\"#2a3f5f\"},\"hovermode\":\"closest\",\"hoverlabel\":{\"align\":\"left\"},\"paper_bgcolor\":\"white\",\"plot_bgcolor\":\"#E5ECF6\",\"polar\":{\"bgcolor\":\"#E5ECF6\",\"angularaxis\":{\"gridcolor\":\"white\",\"linecolor\":\"white\",\"ticks\":\"\"},\"radialaxis\":{\"gridcolor\":\"white\",\"linecolor\":\"white\",\"ticks\":\"\"}},\"ternary\":{\"bgcolor\":\"#E5ECF6\",\"aaxis\":{\"gridcolor\":\"white\",\"linecolor\":\"white\",\"ticks\":\"\"},\"baxis\":{\"gridcolor\":\"white\",\"linecolor\":\"white\",\"ticks\":\"\"},\"caxis\":{\"gridcolor\":\"white\",\"linecolor\":\"white\",\"ticks\":\"\"}},\"coloraxis\":{\"colorbar\":{\"outlinewidth\":0,\"ticks\":\"\"}},\"colorscale\":{\"sequential\":[[0.0,\"#0d0887\"],[0.1111111111111111,\"#46039f\"],[0.2222222222222222,\"#7201a8\"],[0.3333333333333333,\"#9c179e\"],[0.4444444444444444,\"#bd3786\"],[0.5555555555555556,\"#d8576b\"],[0.6666666666666666,\"#ed7953\"],[0.7777777777777778,\"#fb9f3a\"],[0.8888888888888888,\"#fdca26\"],[1.0,\"#f0f921\"]],\"sequentialminus\":[[0.0,\"#0d0887\"],[0.1111111111111111,\"#46039f\"],[0.2222222222222222,\"#7201a8\"],[0.3333333333333333,\"#9c179e\"],[0.4444444444444444,\"#bd3786\"],[0.5555555555555556,\"#d8576b\"],[0.6666666666666666,\"#ed7953\"],[0.7777777777777778,\"#fb9f3a\"],[0.8888888888888888,\"#fdca26\"],[1.0,\"#f0f921\"]],\"diverging\":[[0,\"#8e0152\"],[0.1,\"#c51b7d\"],[0.2,\"#de77ae\"],[0.3,\"#f1b6da\"],[0.4,\"#fde0ef\"],[0.5,\"#f7f7f7\"],[0.6,\"#e6f5d0\"],[0.7,\"#b8e186\"],[0.8,\"#7fbc41\"],[0.9,\"#4d9221\"],[1,\"#276419\"]]},\"xaxis\":{\"gridcolor\":\"white\",\"linecolor\":\"white\",\"ticks\":\"\",\"title\":{\"standoff\":15},\"zerolinecolor\":\"white\",\"automargin\":true,\"zerolinewidth\":2},\"yaxis\":{\"gridcolor\":\"white\",\"linecolor\":\"white\",\"ticks\":\"\",\"title\":{\"standoff\":15},\"zerolinecolor\":\"white\",\"automargin\":true,\"zerolinewidth\":2},\"scene\":{\"xaxis\":{\"backgroundcolor\":\"#E5ECF6\",\"gridcolor\":\"white\",\"linecolor\":\"white\",\"showbackground\":true,\"ticks\":\"\",\"zerolinecolor\":\"white\",\"gridwidth\":2},\"yaxis\":{\"backgroundcolor\":\"#E5ECF6\",\"gridcolor\":\"white\",\"linecolor\":\"white\",\"showbackground\":true,\"ticks\":\"\",\"zerolinecolor\":\"white\",\"gridwidth\":2},\"zaxis\":{\"backgroundcolor\":\"#E5ECF6\",\"gridcolor\":\"white\",\"linecolor\":\"white\",\"showbackground\":true,\"ticks\":\"\",\"zerolinecolor\":\"white\",\"gridwidth\":2}},\"shapedefaults\":{\"line\":{\"color\":\"#2a3f5f\"}},\"annotationdefaults\":{\"arrowcolor\":\"#2a3f5f\",\"arrowhead\":0,\"arrowwidth\":1},\"geo\":{\"bgcolor\":\"white\",\"landcolor\":\"#E5ECF6\",\"subunitcolor\":\"white\",\"showland\":true,\"showlakes\":true,\"lakecolor\":\"white\"},\"title\":{\"x\":0.05},\"mapbox\":{\"style\":\"light\"}}},\"legend\":{\"tracegroupgap\":0},\"title\":{\"text\":\"Interactive Pie Chart\"}},                        {\"responsive\": true}                    ).then(function(){\n",
              "                            \n",
              "var gd = document.getElementById('ca44a802-430d-4813-adfd-f9333f6ef6fd');\n",
              "var x = new MutationObserver(function (mutations, observer) {{\n",
              "        var display = window.getComputedStyle(gd).display;\n",
              "        if (!display || display === 'none') {{\n",
              "            console.log([gd, 'removed!']);\n",
              "            Plotly.purge(gd);\n",
              "            observer.disconnect();\n",
              "        }}\n",
              "}});\n",
              "\n",
              "// Listen for the removal of the full notebook cells\n",
              "var notebookContainer = gd.closest('#notebook-container');\n",
              "if (notebookContainer) {{\n",
              "    x.observe(notebookContainer, {childList: true});\n",
              "}}\n",
              "\n",
              "// Listen for the clearing of the current output cell\n",
              "var outputEl = gd.closest('.output');\n",
              "if (outputEl) {{\n",
              "    x.observe(outputEl, {childList: true});\n",
              "}}\n",
              "\n",
              "                        })                };                            </script>        </div>\n",
              "</body>\n",
              "</html>"
            ]
          },
          "metadata": {}
        }
      ],
      "source": [
        "fig = px.pie(names=categories, values=values, title='Interactive Pie Chart')\n",
        "\n",
        "fig.show()"
      ]
    },
    {
      "cell_type": "code",
      "execution_count": null,
      "id": "255c65a9-1b14-453a-908a-9c64f82e9d6c",
      "metadata": {
        "id": "255c65a9-1b14-453a-908a-9c64f82e9d6c"
      },
      "outputs": [],
      "source": []
    }
  ],
  "metadata": {
    "kernelspec": {
      "display_name": "Python 3 (ipykernel)",
      "language": "python",
      "name": "python3"
    },
    "language_info": {
      "codemirror_mode": {
        "name": "ipython",
        "version": 3
      },
      "file_extension": ".py",
      "mimetype": "text/x-python",
      "name": "python",
      "nbconvert_exporter": "python",
      "pygments_lexer": "ipython3",
      "version": "3.10.8"
    },
    "colab": {
      "provenance": []
    }
  },
  "nbformat": 4,
  "nbformat_minor": 5
}